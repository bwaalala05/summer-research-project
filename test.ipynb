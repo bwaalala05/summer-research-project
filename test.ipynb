{
 "cells": [
  {
   "cell_type": "markdown",
   "metadata": {},
   "source": [
    "# Testing sklearn and statsmodel using artificial data\n",
    "\n",
    "1. [Testing how `sklearn` performs with high collinearity](#testing-how-sklearn-performs-with-high-collinearity)\n",
    "1. [Testing `StandardScaler`](#testing-standardscaler)\n",
    "1. [Testing ridge regression](#testing-ridge-regression)\n",
    "1. [Testing LASSO](#testing-lasso)\n",
    "1. [Testing `statsmodel`](#testing-statsmodel)"
   ]
  },
  {
   "cell_type": "code",
   "execution_count": 81,
   "metadata": {},
   "outputs": [],
   "source": [
    "# import modules\n",
    "\n",
    "import numpy as np\n",
    "import pandas as pd \n",
    "import matplotlib.pyplot as plt\n",
    "import sklearn.linear_model as skl_lm\n",
    "from sklearn.model_selection import train_test_split\n",
    "from sklearn.preprocessing import StandardScaler\n",
    "from sklearn.linear_model import LinearRegression\n",
    "from sklearn.metrics import mean_squared_error, r2_score\n",
    "\n",
    "# ridge and lasso\n",
    "from sklearn.linear_model import RidgeCV\n",
    "from sklearn.linear_model import LassoCV\n",
    "\n",
    "# statsmodel\n",
    "import statsmodels.api as sm\n",
    "from statsmodels.stats.outliers_influence \\\n",
    "    import variance_inflation_factor as VIF\n",
    "from statsmodels.stats.anova import anova_lm\n",
    "# from ISLP import load_data\n",
    "from ISLP.models import (ModelSpec as MS, summarize, poly)\n",
    "from scipy import stats"
   ]
  },
  {
   "cell_type": "markdown",
   "metadata": {},
   "source": [
    "---"
   ]
  },
  {
   "cell_type": "markdown",
   "metadata": {},
   "source": [
    "## Testing how `sklearn` performs with high collinearity\n",
    "\n",
    "We generate a dataframe with 3 predictors:\n",
    "$$Y=X_1 +2X_2 + 3X_3,$$\n",
    "\n",
    "where $X_1$ and $X_2$ are strongly correlated with the relationship $X_2=2X_1$.\n",
    "\n",
    "Results: \n",
    "- uses pseudoinverse\n",
    "- doesn't give warning\n",
    "- good fit when predictors are not scaled, expected confounding effect when scaled\n",
    "- \"equal weightage distribution\" are due to scaler, not OLS function"
   ]
  },
  {
   "cell_type": "code",
   "execution_count": 116,
   "metadata": {},
   "outputs": [
    {
     "name": "stdout",
     "output_type": "stream",
     "text": [
      "    col_1  col_2  col_3  col_4\n",
      "0      59    177     39    526\n",
      "1      13     39     16    131\n",
      "2      51    153     83    610\n",
      "3      88    264     21    688\n",
      "4      52    156     14    400\n",
      "..    ...    ...    ...    ...\n",
      "95     59    177     12    448\n",
      "96     85    255     49    750\n",
      "97      8     24     55    229\n",
      "98     88    264     63    797\n",
      "99     21     63     88    408\n",
      "\n",
      "[100 rows x 4 columns]\n"
     ]
    }
   ],
   "source": [
    "# set parameters as you like to play around \n",
    "beta1=1\n",
    "beta2=2\n",
    "beta3=3\n",
    "correlation=3 # X_2 = 2*X_1\n",
    "\n",
    "# Define the number of rows and columns\n",
    "num_rows = 100\n",
    "num_cols = 4\n",
    "\n",
    "# Define column names (optional, but good practice)\n",
    "column_names = [f'col_{i+1}' for i in range(num_cols)]\n",
    "\n",
    "# Generate random data using NumPy\n",
    "# For random integers: np.random.randint(low, high, size=(rows, cols))\n",
    "# For random floats: np.random.rand(rows, cols) or np.random.uniform(low, high, size=(rows, cols))\n",
    "random_data = np.random.randint(0, 100, size=(num_rows, num_cols)) # Example: random integers between 0 and 99\n",
    "\n",
    "# Create the DataFrame\n",
    "df = pd.DataFrame(random_data, columns=column_names)\n",
    "\n",
    "for i in range(num_rows):\n",
    "    df.iloc[i,1]=correlation*df.iloc[i,0]#+ np.random.randint(-50,50)\n",
    "    df.iloc[i,num_cols-1] = beta1*df.iloc[i,0] + beta2*df.iloc[i,1] + beta3*df.iloc[i,2] + np.random.randint(-10,10)\n",
    "\n",
    "# Print the generated DataFrame\n",
    "print(df)"
   ]
  },
  {
   "cell_type": "code",
   "execution_count": 125,
   "metadata": {},
   "outputs": [
    {
     "name": "stdout",
     "output_type": "stream",
     "text": [
      "[0.70082786 2.10248359 3.02729549] -2.055773247245895\n"
     ]
    },
    {
     "name": "stderr",
     "output_type": "stream",
     "text": [
      "/opt/anaconda3/lib/python3.12/site-packages/sklearn/base.py:493: UserWarning: X does not have valid feature names, but LinearRegression was fitted with feature names\n",
      "  warnings.warn(\n"
     ]
    }
   ],
   "source": [
    "X=df.drop(columns=['col_4'])\n",
    "y=df['col_4']\n",
    "\n",
    "X_train, X_test, y_train, y_test = train_test_split(X,y,train_size=0.8,random_state=42)\n",
    "\n",
    "# standardise\n",
    "scaler=StandardScaler()\n",
    "X_train_scaled=scaler.fit_transform(X_train)\n",
    "X_test_scaled=scaler.transform(X_test)\n",
    "\n",
    "# build model\n",
    "model=LinearRegression()\n",
    "model_scaled=model.fit(X_train,y_train)\n",
    "\n",
    "# make predictions\n",
    "y_pred1=model.predict(X_test_scaled)\n",
    "\n",
    "print(model_scaled.coef_, model_scaled.intercept_)\n"
   ]
  },
  {
   "cell_type": "markdown",
   "metadata": {},
   "source": [
    "Real relationship:\n",
    "\n",
    "$$Y=X_1+2X_2+3X_3$$"
   ]
  },
  {
   "cell_type": "code",
   "execution_count": 84,
   "metadata": {},
   "outputs": [
    {
     "name": "stdout",
     "output_type": "stream",
     "text": [
      "216.96334945181675\n"
     ]
    }
   ],
   "source": [
    "# equally distributed weightage?\n",
    "\n",
    "b1=(model_scaled.coef_[1]+model_scaled.coef_[0])\n",
    "\n",
    "print(b1)"
   ]
  },
  {
   "cell_type": "code",
   "execution_count": 124,
   "metadata": {},
   "outputs": [
    {
     "name": "stdout",
     "output_type": "stream",
     "text": [
      "[100.11755932 100.11755932  87.15896507 464.8375    ]\n"
     ]
    }
   ],
   "source": [
    "# pseudoinverse for scaled data\n",
    "pinv_arr=np.ones((int(0.8*num_rows),num_cols))\n",
    "for i in range(X_train_scaled.shape[0]):\n",
    "    for j in range(4):\n",
    "        if j<3:\n",
    "            pinv_arr[i,j]=X_train_scaled[i,j]\n",
    "\n",
    "pinv=np.linalg.pinv(pinv_arr)\n",
    "print(np.matmul(pinv,y_train))"
   ]
  },
  {
   "cell_type": "markdown",
   "metadata": {},
   "source": [
    "### What if we remove the second (collinear) column?\n",
    "\n",
    "Now, there is no collinearity in our model, and we see that the coefficient for the first predictor is the sum of the coefficients of the two correlated variables in the previous model."
   ]
  },
  {
   "cell_type": "code",
   "execution_count": 86,
   "metadata": {},
   "outputs": [
    {
     "name": "stdout",
     "output_type": "stream",
     "text": [
      "[216.96334945  78.58886962] 481.075\n"
     ]
    }
   ],
   "source": [
    "X_new=X.drop(columns=['col_2'])\n",
    "\n",
    "X_new_train, X_new_test, y_train, y_test = train_test_split(X_new,y,train_size=0.8,random_state=42)\n",
    "\n",
    "# standardise\n",
    "X_new_train_scaled=scaler.fit_transform(X_new_train)\n",
    "X_new_test_scaled=scaler.transform(X_new_test)\n",
    "\n",
    "# build model\n",
    "model_new=LinearRegression().fit(X_new_train_scaled,y_train)\n",
    "\n",
    "# test\n",
    "y_pred2=model_new.predict(X_new_test_scaled)\n",
    "\n",
    "print(model_new.coef_, model_new.intercept_)"
   ]
  },
  {
   "cell_type": "code",
   "execution_count": 87,
   "metadata": {},
   "outputs": [
    {
     "name": "stdout",
     "output_type": "stream",
     "text": [
      "with second column:  0.930467431785162\n",
      " w/o second column:  0.9304674317851621\n"
     ]
    }
   ],
   "source": [
    "# comparing R2 values\n",
    "print(\"with second column: \", r2_score(y_test,y_pred1))\n",
    "print(\" w/o second column: \", r2_score(y_test,y_pred2))"
   ]
  },
  {
   "cell_type": "markdown",
   "metadata": {},
   "source": [
    "## Testing StandardScaler\n",
    "\n",
    "### 1. What if we don't scale the regressors?"
   ]
  },
  {
   "cell_type": "code",
   "execution_count": 88,
   "metadata": {},
   "outputs": [
    {
     "name": "stdout",
     "output_type": "stream",
     "text": [
      "[0.6904844  2.07145319 2.58660988] 21.490577191873\n"
     ]
    }
   ],
   "source": [
    "# model fit to unscaled data\n",
    "\n",
    "model_unscaled=LinearRegression()\n",
    "model_unscaled.fit(X_train,y_train)\n",
    "print(model_unscaled.coef_, model_unscaled.intercept_)\n",
    "\n",
    "# real relationship: Y=X_1+2X_2+3X_3"
   ]
  },
  {
   "cell_type": "code",
   "execution_count": 89,
   "metadata": {},
   "outputs": [
    {
     "name": "stdout",
     "output_type": "stream",
     "text": [
      "[ 0.6904844   2.07145319  2.58660988 21.49057719]\n"
     ]
    }
   ],
   "source": [
    "# using pseudoinverse for unscaled data matrix\n",
    "\n",
    "# add one column of ones for constant term\n",
    "pinv_arr=np.ones((80,4))\n",
    "for i in range(80):\n",
    "    for j in range(4):\n",
    "        if j<3:\n",
    "            pinv_arr[i,j]=X_train.iloc[i,j]\n",
    "\n",
    "pinv2=np.linalg.pinv(pinv_arr)\n",
    "print(np.matmul(pinv2,y_train))"
   ]
  },
  {
   "cell_type": "code",
   "execution_count": 90,
   "metadata": {},
   "outputs": [
    {
     "data": {
      "text/plain": [
       "<bound method NDFrame.head of     col_1  col_2  col_3\n",
       "55     18     54     96\n",
       "88     48    144     65\n",
       "26     53    159     81\n",
       "42      4     12     27\n",
       "69     74    222     41\n",
       "..    ...    ...    ...\n",
       "60     97    291     95\n",
       "71     83    249     12\n",
       "14     14     42     20\n",
       "92     86    258     38\n",
       "51     27     81     46\n",
       "\n",
       "[80 rows x 3 columns]>"
      ]
     },
     "execution_count": 90,
     "metadata": {},
     "output_type": "execute_result"
    }
   ],
   "source": [
    "X_train.head"
   ]
  },
  {
   "cell_type": "code",
   "execution_count": 91,
   "metadata": {},
   "outputs": [
    {
     "data": {
      "text/plain": [
       "array([[-9.85379477e-01, -9.85379477e-01,  1.61356882e+00],\n",
       "       [-3.06314977e-02, -3.06314977e-02,  5.93260132e-01],\n",
       "       [ 1.28493166e-01,  1.28493166e-01,  1.11987107e+00],\n",
       "       [-1.43092853e+00, -1.43092853e+00, -6.57440840e-01],\n",
       "       [ 7.96816751e-01,  7.96816751e-01, -1.96656271e-01],\n",
       "       [ 1.08324114e+00,  1.08324114e+00,  1.54774245e+00],\n",
       "       [-9.85379477e-01, -9.85379477e-01,  5.60346949e-01],\n",
       "       [-1.43092853e+00, -1.43092853e+00,  1.05404470e+00],\n",
       "       [ 9.55941414e-01,  9.55941414e-01,  4.28694215e-01],\n",
       "       [ 5.74042223e-01,  5.74042223e-01, -1.24987814e+00],\n",
       "       [ 6.48433003e-02,  6.48433003e-02, -6.24527656e-01],\n",
       "       [ 5.10392357e-01,  5.10392357e-01, -1.28279133e+00],\n",
       "       [ 1.60318098e-01,  1.60318098e-01,  1.32475563e-01],\n",
       "       [-9.21729612e-01, -9.21729612e-01, -1.18405178e+00],\n",
       "       [ 1.46514034e+00,  1.46514034e+00,  7.90739233e-01],\n",
       "       [ 1.19343497e-03,  1.19343497e-03, -1.30829904e-01],\n",
       "       [-6.24564303e-02, -6.24564303e-02,  5.93260132e-01],\n",
       "       [-7.62604948e-01, -7.62604948e-01, -9.86572674e-01],\n",
       "       [ 1.14689101e+00,  1.14689101e+00,  7.24912866e-01],\n",
       "       [-8.89904679e-01, -8.89904679e-01, -6.90354023e-01],\n",
       "       [ 7.33166886e-01,  7.33166886e-01, -1.38153088e+00],\n",
       "       [ 1.52879020e+00,  1.52879020e+00, -1.31570451e+00],\n",
       "       [-9.53554544e-01, -9.53554544e-01, -1.34861769e+00],\n",
       "       [-6.67130151e-01, -6.67130151e-01, -3.20903539e-02],\n",
       "       [ 8.28641684e-01,  8.28641684e-01, -3.61222189e-01],\n",
       "       [-1.04902934e+00, -1.04902934e+00, -4.59961739e-01],\n",
       "       [ 1.33784061e+00,  1.33784061e+00, -9.79167208e-02],\n",
       "       [-1.43092853e+00, -1.43092853e+00, -1.96656271e-01],\n",
       "       [ 1.14689101e+00,  1.14689101e+00,  8.89478783e-01],\n",
       "       [-9.53554544e-01, -9.53554544e-01,  1.58065564e+00],\n",
       "       [-8.26254814e-01, -8.26254814e-01,  1.21861062e+00],\n",
       "       [-1.33545374e+00, -1.33545374e+00,  1.44900290e+00],\n",
       "       [ 8.60466616e-01,  8.60466616e-01,  1.28443698e+00],\n",
       "       [-1.30362880e+00, -1.30362880e+00,  8.22829587e-04],\n",
       "       [-7.62604948e-01, -7.62604948e-01, -1.44735724e+00],\n",
       "       [ 9.87766347e-01,  9.87766347e-01,  1.71230837e+00],\n",
       "       [-8.58079746e-01, -8.58079746e-01, -5.25788106e-01],\n",
       "       [-4.44355622e-01, -4.44355622e-01,  5.27433765e-01],\n",
       "       [-6.35305218e-01, -6.35305218e-01,  1.21861062e+00],\n",
       "       [-1.89756161e-01, -1.89756161e-01,  4.28694215e-01],\n",
       "       [ 6.69517020e-01,  6.69517020e-01, -2.62482638e-01],\n",
       "       [-3.80705757e-01, -3.80705757e-01,  3.95781031e-01],\n",
       "       [-3.80705757e-01, -3.80705757e-01,  1.54774245e+00],\n",
       "       [-7.62604948e-01, -7.62604948e-01, -3.28309005e-01],\n",
       "       [ 8.92291549e-01,  8.92291549e-01, -1.34861769e+00],\n",
       "       [ 1.24236581e+00,  1.24236581e+00, -8.22006757e-01],\n",
       "       [-1.49457840e+00, -1.49457840e+00, -1.11822541e+00],\n",
       "       [ 1.56061513e+00,  1.56061513e+00, -1.54609679e+00],\n",
       "       [ 6.05867155e-01,  6.05867155e-01,  9.22391967e-01],\n",
       "       [ 1.11506608e+00,  1.11506608e+00,  8.22829587e-04],\n",
       "       [-1.46275347e+00, -1.46275347e+00,  3.62867848e-01],\n",
       "       [ 1.33784061e+00,  1.33784061e+00,  2.64128297e-01],\n",
       "       [ 1.46514034e+00,  1.46514034e+00, -1.28279133e+00],\n",
       "       [-1.49457840e+00, -1.49457840e+00, -1.21696496e+00],\n",
       "       [ 5.42217290e-01,  5.42217290e-01,  1.67939519e+00],\n",
       "       [ 1.43331540e+00,  1.43331540e+00, -1.96656271e-01],\n",
       "       [-6.24564303e-02, -6.24564303e-02,  3.62867848e-01],\n",
       "       [ 1.14689101e+00,  1.14689101e+00,  9.95623800e-02],\n",
       "       [ 1.14689101e+00,  1.14689101e+00,  1.25152380e+00],\n",
       "       [-2.53406026e-01, -2.53406026e-01,  8.89478783e-01],\n",
       "       [-1.08085427e+00, -1.08085427e+00,  7.90739233e-01],\n",
       "       [-1.52640333e+00, -1.52640333e+00, -4.59961739e-01],\n",
       "       [ 1.17871594e+00,  1.17871594e+00,  2.64128297e-01],\n",
       "       [-5.71655353e-01, -5.71655353e-01, -1.51318361e+00],\n",
       "       [-1.55822826e+00, -1.55822826e+00, -1.54609679e+00],\n",
       "       [-5.08005487e-01, -5.08005487e-01,  1.41608972e+00],\n",
       "       [ 1.43331540e+00,  1.43331540e+00, -1.44735724e+00],\n",
       "       [-1.20815401e+00, -1.20815401e+00, -6.57440840e-01],\n",
       "       [ 6.37692088e-01,  6.37692088e-01,  1.25152380e+00],\n",
       "       [-2.85230959e-01, -2.85230959e-01, -3.94135372e-01],\n",
       "       [ 1.28493166e-01,  1.28493166e-01, -3.61222189e-01],\n",
       "       [-8.89904679e-01, -8.89904679e-01, -1.34861769e+00],\n",
       "       [-1.14450414e+00, -1.14450414e+00, -1.54609679e+00],\n",
       "       [ 1.01959128e+00,  1.01959128e+00, -1.63743088e-01],\n",
       "       [ 1.28493166e-01,  1.28493166e-01,  1.54774245e+00],\n",
       "       [ 1.52879020e+00,  1.52879020e+00,  1.58065564e+00],\n",
       "       [ 1.08324114e+00,  1.08324114e+00, -1.15113859e+00],\n",
       "       [-1.11267921e+00, -1.11267921e+00, -8.87833124e-01],\n",
       "       [ 1.17871594e+00,  1.17871594e+00, -2.95395822e-01],\n",
       "       [-6.98955083e-01, -6.98955083e-01, -3.20903539e-02]])"
      ]
     },
     "execution_count": 91,
     "metadata": {},
     "output_type": "execute_result"
    }
   ],
   "source": [
    "X_train_scaled"
   ]
  },
  {
   "cell_type": "markdown",
   "metadata": {},
   "source": [
    "Let's compare $\\mathbf{X}$ before and after scaling "
   ]
  },
  {
   "cell_type": "code",
   "execution_count": 92,
   "metadata": {},
   "outputs": [
    {
     "name": "stdout",
     "output_type": "stream",
     "text": [
      "48.9625 987.3360937500007\n"
     ]
    },
    {
     "name": "stderr",
     "output_type": "stream",
     "text": [
      "/var/folders/n1/xb4gyj5530g0114s2tcl_l_c0000gn/T/ipykernel_18612/654684410.py:7: FutureWarning: Setting an item of incompatible dtype is deprecated and will raise in a future error of pandas. Value '55   -0.985379\n",
      "88   -0.030631\n",
      "26    0.128493\n",
      "42   -1.430929\n",
      "69    0.796817\n",
      "        ...   \n",
      "60    1.528790\n",
      "71    1.083241\n",
      "14   -1.112679\n",
      "92    1.178716\n",
      "51   -0.698955\n",
      "Name: col_1, Length: 80, dtype: float64' has dtype incompatible with int64, please explicitly cast to a compatible dtype first.\n",
      "  X_new.iloc[:,0]=(X_train.iloc[:,0] - mean1 )/sd1\n"
     ]
    },
    {
     "data": {
      "text/plain": [
       "55   -0.985379\n",
       "88   -0.030631\n",
       "26    0.128493\n",
       "42   -1.430929\n",
       "69    0.796817\n",
       "        ...   \n",
       "60    1.528790\n",
       "71    1.083241\n",
       "14   -1.112679\n",
       "92    1.178716\n",
       "51   -0.698955\n",
       "Name: col_1, Length: 80, dtype: float64"
      ]
     },
     "execution_count": 92,
     "metadata": {},
     "output_type": "execute_result"
    }
   ],
   "source": [
    "# trying to standardise a column manually``\n",
    "\n",
    "X_new=X_train\n",
    "mean1=np.mean(X_train.iloc[:,0])\n",
    "var1=np.var(X_train.iloc[:,0])\n",
    "sd1=var1**0.5\n",
    "X_new.iloc[:,0]=(X_train.iloc[:,0] - mean1 )/sd1\n",
    "print(mean1,var1)\n",
    "X_new.iloc[:,0]"
   ]
  },
  {
   "cell_type": "markdown",
   "metadata": {},
   "source": [
    "### 2. Testing the scaler with non-collinear data\n",
    "\n",
    "Results: everything normal and consistent. The comparison between output of scaled and unscaled model is as expected."
   ]
  },
  {
   "cell_type": "code",
   "execution_count": 93,
   "metadata": {},
   "outputs": [
    {
     "name": "stdout",
     "output_type": "stream",
     "text": [
      "    col_1  col_2  col_3  col_4\n",
      "0      70     21     46    255\n",
      "1      29     32     35    197\n",
      "2      58     90     79    466\n",
      "3      74      8     95    377\n",
      "4      73     11     13    133\n",
      "..    ...    ...    ...    ...\n",
      "95      9     32     63    260\n",
      "96      8     94     55    369\n",
      "97     66     33      6    151\n",
      "98     95     77     75    472\n",
      "99     57     12     90    356\n",
      "\n",
      "[100 rows x 4 columns]\n"
     ]
    }
   ],
   "source": [
    "# Define the number of rows and columns\n",
    "num_rows = 100\n",
    "num_cols = 4\n",
    "\n",
    "# Define column names (optional, but good practice)\n",
    "column_names = [f'col_{i+1}' for i in range(num_cols)]\n",
    "\n",
    "# Generate random data using NumPy\n",
    "# For random integers: np.random.randint(low, high, size=(rows, cols))\n",
    "# For random floats: np.random.rand(rows, cols) or np.random.uniform(low, high, size=(rows, cols))\n",
    "\n",
    "random_data = np.random.randint(0, 100, size=(num_rows, num_cols)) # Example: random integers between 0 and 99\n",
    "\n",
    "# Create the DataFrame\n",
    "df = pd.DataFrame(random_data, columns=column_names)\n",
    "\n",
    "for i in range(num_rows):\n",
    "    df.iloc[i,num_cols-1]=df.iloc[i,0]+2*df.iloc[i,1]+3*df.iloc[i,2]+np.random.randint(-10,10)\n",
    "\n",
    "# Print the generated DataFrame\n",
    "print(df)"
   ]
  },
  {
   "cell_type": "code",
   "execution_count": 94,
   "metadata": {},
   "outputs": [],
   "source": [
    "X=df.drop(columns=['col_4'])\n",
    "y=df['col_4']\n",
    "\n",
    "X_train, X_test, y_train, y_test = train_test_split(X,y,train_size=0.8,random_state=42)\n",
    "\n",
    "# standardise\n",
    "scaler=StandardScaler()\n",
    "X_train_scaled=scaler.fit_transform(X_train)\n",
    "X_test_scaled=scaler.transform(X_test)\n",
    "\n",
    "# correct\n",
    "model1=LinearRegression()\n",
    "model2=LinearRegression()\n",
    "model_scaled=model1.fit(X_train_scaled,y_train)\n",
    "model_unscaled=model2.fit(X_train,y_train)\n",
    "\n",
    "# wrong\n",
    "# model=LinearRegression()\n",
    "# model_scaled=model.fit(X_train_scaled,y_train)\n",
    "# model_unscaled=model.fit(X_train,y_train)\n"
   ]
  },
  {
   "cell_type": "code",
   "execution_count": 95,
   "metadata": {},
   "outputs": [
    {
     "data": {
      "text/html": [
       "<div>\n",
       "<style scoped>\n",
       "    .dataframe tbody tr th:only-of-type {\n",
       "        vertical-align: middle;\n",
       "    }\n",
       "\n",
       "    .dataframe tbody tr th {\n",
       "        vertical-align: top;\n",
       "    }\n",
       "\n",
       "    .dataframe thead th {\n",
       "        text-align: right;\n",
       "    }\n",
       "</style>\n",
       "<table border=\"1\" class=\"dataframe\">\n",
       "  <thead>\n",
       "    <tr style=\"text-align: right;\">\n",
       "      <th></th>\n",
       "      <th>col_1</th>\n",
       "      <th>col_2</th>\n",
       "      <th>col_3</th>\n",
       "      <th>col_4</th>\n",
       "    </tr>\n",
       "  </thead>\n",
       "  <tbody>\n",
       "    <tr>\n",
       "      <th>0</th>\n",
       "      <td>70</td>\n",
       "      <td>21</td>\n",
       "      <td>46</td>\n",
       "      <td>255</td>\n",
       "    </tr>\n",
       "    <tr>\n",
       "      <th>1</th>\n",
       "      <td>29</td>\n",
       "      <td>32</td>\n",
       "      <td>35</td>\n",
       "      <td>197</td>\n",
       "    </tr>\n",
       "    <tr>\n",
       "      <th>2</th>\n",
       "      <td>58</td>\n",
       "      <td>90</td>\n",
       "      <td>79</td>\n",
       "      <td>466</td>\n",
       "    </tr>\n",
       "    <tr>\n",
       "      <th>3</th>\n",
       "      <td>74</td>\n",
       "      <td>8</td>\n",
       "      <td>95</td>\n",
       "      <td>377</td>\n",
       "    </tr>\n",
       "    <tr>\n",
       "      <th>4</th>\n",
       "      <td>73</td>\n",
       "      <td>11</td>\n",
       "      <td>13</td>\n",
       "      <td>133</td>\n",
       "    </tr>\n",
       "    <tr>\n",
       "      <th>...</th>\n",
       "      <td>...</td>\n",
       "      <td>...</td>\n",
       "      <td>...</td>\n",
       "      <td>...</td>\n",
       "    </tr>\n",
       "    <tr>\n",
       "      <th>95</th>\n",
       "      <td>9</td>\n",
       "      <td>32</td>\n",
       "      <td>63</td>\n",
       "      <td>260</td>\n",
       "    </tr>\n",
       "    <tr>\n",
       "      <th>96</th>\n",
       "      <td>8</td>\n",
       "      <td>94</td>\n",
       "      <td>55</td>\n",
       "      <td>369</td>\n",
       "    </tr>\n",
       "    <tr>\n",
       "      <th>97</th>\n",
       "      <td>66</td>\n",
       "      <td>33</td>\n",
       "      <td>6</td>\n",
       "      <td>151</td>\n",
       "    </tr>\n",
       "    <tr>\n",
       "      <th>98</th>\n",
       "      <td>95</td>\n",
       "      <td>77</td>\n",
       "      <td>75</td>\n",
       "      <td>472</td>\n",
       "    </tr>\n",
       "    <tr>\n",
       "      <th>99</th>\n",
       "      <td>57</td>\n",
       "      <td>12</td>\n",
       "      <td>90</td>\n",
       "      <td>356</td>\n",
       "    </tr>\n",
       "  </tbody>\n",
       "</table>\n",
       "<p>100 rows × 4 columns</p>\n",
       "</div>"
      ],
      "text/plain": [
       "    col_1  col_2  col_3  col_4\n",
       "0      70     21     46    255\n",
       "1      29     32     35    197\n",
       "2      58     90     79    466\n",
       "3      74      8     95    377\n",
       "4      73     11     13    133\n",
       "..    ...    ...    ...    ...\n",
       "95      9     32     63    260\n",
       "96      8     94     55    369\n",
       "97     66     33      6    151\n",
       "98     95     77     75    472\n",
       "99     57     12     90    356\n",
       "\n",
       "[100 rows x 4 columns]"
      ]
     },
     "execution_count": 95,
     "metadata": {},
     "output_type": "execute_result"
    }
   ],
   "source": [
    "df"
   ]
  },
  {
   "cell_type": "code",
   "execution_count": 96,
   "metadata": {},
   "outputs": [
    {
     "data": {
      "text/plain": [
       "array([[ 1.3361366 ,  1.54383411, -0.0812089 ],\n",
       "       [-1.50781411, -1.47954388,  1.07143349],\n",
       "       [ 1.6135952 , -1.13202917,  0.02357678],\n",
       "       [-1.50781411,  1.75234293,  0.79200503],\n",
       "       [ 0.53844311, -0.88876887,  0.12836245],\n",
       "       [ 1.40550125, -0.29799387, -1.61806541],\n",
       "       [-0.88353225, -0.92352035,  1.59536185],\n",
       "       [-1.54249644,  1.61333705,  0.05850533],\n",
       "       [ 1.26677195,  0.77930174,  0.86186215],\n",
       "       [-1.05694388, -0.40224828, -0.91949427],\n",
       "       [-1.02226155, -0.99302329,  1.42071906],\n",
       "       [ 0.95463102,  0.81405321,  0.33793379],\n",
       "       [-1.47313179, -0.81926593,  0.23314812],\n",
       "       [-0.32861504, -1.27103506, -0.46542302],\n",
       "       [-1.75059039, -0.61075711, -0.18599457],\n",
       "       [-0.84884992,  0.57079291,  0.86186215],\n",
       "       [-0.05115643, -0.61075711,  0.61736225],\n",
       "       [-1.36908481,  0.39703556, -0.81470859],\n",
       "       [ 1.4748659 , -0.81926593,  1.42071906],\n",
       "       [-0.46734434,  1.33532528, -0.3257088 ],\n",
       "       [ 1.57891288,  0.39703556, -0.77978004],\n",
       "       [-0.50202666, -1.61854977, -1.82763675],\n",
       "       [-1.33440248,  1.71759146, -0.91949427],\n",
       "       [-1.50781411, -0.54125416,  0.33793379],\n",
       "       [ 1.02399567,  1.50908263,  0.51257658],\n",
       "       [ 0.74653706, -0.33274534,  1.07143349],\n",
       "       [ 0.67717241, -0.61075711, -1.05920849],\n",
       "       [-0.18988573, -0.68026005,  1.31593339],\n",
       "       [-0.08583876, -0.26324239, -0.01135178],\n",
       "       [ 0.2609845 , -0.15898798, -0.53528014],\n",
       "       [-0.60607364, -0.74976299,  0.44271946],\n",
       "       [ 0.74653706, -1.37528947,  1.45564762],\n",
       "       [-1.0916262 , -1.20153211, -0.11613745],\n",
       "       [ 0.67717241,  0.53604144, -1.54820829],\n",
       "       [ 0.29566683,  0.84880468, -1.26877984],\n",
       "       [ 1.40550125, -0.61075711,  1.3857905 ],\n",
       "       [ 0.50376078,  1.02256204, -1.72285108],\n",
       "       [ 1.16272497, -0.15898798, -0.50035158],\n",
       "       [ 0.71185474,  1.54383411, -0.53528014],\n",
       "       [ 0.64249008,  1.02256204, -0.25585168],\n",
       "       [-1.68122574, -0.26324239,  0.33793379],\n",
       "       [ 0.15693752, -1.23628359,  1.28100483],\n",
       "       [ 1.44018358,  0.2232782 , -1.47835118],\n",
       "       [-0.77948527, -1.5837983 ,  0.4077909 ],\n",
       "       [-1.33440248, -1.02777476,  0.44271946],\n",
       "       [-0.29393271,  0.2232782 , -0.11613745],\n",
       "       [-1.05694388,  0.84880468,  0.86186215],\n",
       "       [ 0.01820822,  1.54383411,  1.52550473],\n",
       "       [-0.57139132, -0.43699975,  1.59536185],\n",
       "       [ 0.46907846, -0.50650269, -1.65299397],\n",
       "       [ 0.57312543, -1.27103506, -1.16399417],\n",
       "       [ 0.53844311, -0.26324239,  1.3857905 ],\n",
       "       [ 0.98931334,  0.50128997,  0.82693359],\n",
       "       [-0.9528969 ,  0.53604144, -1.33863695],\n",
       "       [ 1.4748659 ,  1.02256204,  0.75707648],\n",
       "       [-0.74480294, -0.57600563, -0.15106601],\n",
       "       [ 0.46907846, -0.15898798,  0.12836245],\n",
       "       [ 0.88526636,  0.60554438,  0.72214792],\n",
       "       [ 0.88526636,  0.98781057,  0.4077909 ],\n",
       "       [ 0.3997138 ,  0.67504733, -1.09413705],\n",
       "       [ 1.1974073 ,  1.19631939,  1.56043329],\n",
       "       [ 0.3997138 ,  1.26582234,  1.42071906],\n",
       "       [ 1.4748659 ,  0.04952085, -1.02427994],\n",
       "       [-0.64075597,  0.74455027, -1.09413705],\n",
       "       [-0.8141676 , -0.54125416, -0.64006581],\n",
       "       [-0.12052108,  1.37007675,  0.58243369],\n",
       "       [ 1.12804264, -0.12423651,  1.24607628],\n",
       "       [ 0.19161985,  1.47433116,  0.8967907 ],\n",
       "       [-1.54249644,  1.37007675,  0.26807668],\n",
       "       [ 0.74653706, -1.44479241,  1.49057617],\n",
       "       [ 0.33034915, -1.16678064, -0.81470859],\n",
       "       [-0.9528969 ,  1.54383411, -0.39556591],\n",
       "       [-0.64075597, -1.44479241, -0.98935138],\n",
       "       [ 0.3997138 , -1.44479241, -1.75777964],\n",
       "       [-1.26503783, -1.13202917, -1.79270819],\n",
       "       [-0.8141676 , -0.95827182, -0.39556591],\n",
       "       [ 1.05867799,  1.50908263, -0.84963715],\n",
       "       [-1.19567318, -0.0199821 , -1.26877984],\n",
       "       [-1.02226155, -0.12423651, -0.15106601],\n",
       "       [ 1.30145427, -0.81926593, -0.43049447]])"
      ]
     },
     "execution_count": 96,
     "metadata": {},
     "output_type": "execute_result"
    }
   ],
   "source": [
    "X_train_scaled"
   ]
  },
  {
   "cell_type": "code",
   "execution_count": 97,
   "metadata": {},
   "outputs": [
    {
     "name": "stdout",
     "output_type": "stream",
     "text": [
      "Scaled:  [27.56749648 57.72438096 87.1780837 ] 307.0875\n",
      "Unscaled:  [0.95610489 2.00600716 3.04500468] -0.8947691429685278\n"
     ]
    }
   ],
   "source": [
    "print(\"Scaled: \",model_scaled.coef_, model_scaled.intercept_)\n",
    "print(\"Unscaled: \",model_unscaled.coef_, model_unscaled.intercept_)"
   ]
  },
  {
   "cell_type": "markdown",
   "metadata": {},
   "source": [
    "## Testing ridge regression\n",
    "\n",
    "What I want to know: whether if it just gives a model that is useful for predictions OR it is actually able to capture the true underlying relationship. \n",
    "\n",
    "We reuse the same generated dataframe from last section, with relationship\n",
    "$$Y=X_1+2X_2+3X_3$$\n",
    "where $X_1$ and $X_2$ are correlated with $X_2=2X_1$."
   ]
  },
  {
   "cell_type": "code",
   "execution_count": 98,
   "metadata": {},
   "outputs": [
    {
     "name": "stdout",
     "output_type": "stream",
     "text": [
      "    col_1  col_2  col_3  col_4\n",
      "0      70     21     46    255\n",
      "1      29     32     35    197\n",
      "2      58     90     79    466\n",
      "3      74      8     95    377\n",
      "4      73     11     13    133\n",
      "..    ...    ...    ...    ...\n",
      "95      9     32     63    260\n",
      "96      8     94     55    369\n",
      "97     66     33      6    151\n",
      "98     95     77     75    472\n",
      "99     57     12     90    356\n",
      "\n",
      "[100 rows x 4 columns]\n"
     ]
    }
   ],
   "source": [
    "# reuse the data\n",
    "print(df)\n"
   ]
  },
  {
   "cell_type": "code",
   "execution_count": 99,
   "metadata": {},
   "outputs": [
    {
     "name": "stdout",
     "output_type": "stream",
     "text": [
      "Model score (R^2) for OLS:  0.9968497537026608\n",
      "Model score (R^2) for ridge:  0.996818497465305\n"
     ]
    }
   ],
   "source": [
    "X=df.iloc[:,0:3]\n",
    "y=df.iloc[:,3]\n",
    "\n",
    "X_train, X_test, y_train, y_test=train_test_split(X,y,train_size=0.8, random_state=42)\n",
    "\n",
    "scaler=StandardScaler()\n",
    "X_train_scaled=scaler.fit_transform(X_train)\n",
    "X_test_scaled=scaler.transform(X_test)\n",
    "\n",
    "ols=LinearRegression().fit(X_train_scaled,y_train)\n",
    "ridge_cv=RidgeCV(alphas=[0.0001,0.001,0.01,0.1,1.0,5.0,10.0],cv=10) #alpha = regularisation parameter\n",
    "ridge_cv.fit(X_train_scaled, y_train)\n",
    "\n",
    "# make predictions\n",
    "y_pred_ols=ols.predict(X_test_scaled)\n",
    "y_pred_ridge=ridge_cv.predict(X_test_scaled)\n",
    "print(\"Model score (R^2) for OLS: \", r2_score(y_test,y_pred_ols))\n",
    "print(\"Model score (R^2) for ridge: \", r2_score(y_test,y_pred_ridge))\n",
    "\n"
   ]
  },
  {
   "cell_type": "code",
   "execution_count": 100,
   "metadata": {},
   "outputs": [
    {
     "name": "stdout",
     "output_type": "stream",
     "text": [
      "Cross-validated R^2 scores (OLS): [0.99737051 0.9985115  0.9950742  0.9979788  0.99781831]\n",
      "Mean CV R^2 (OLS): 0.9973506658452187\n"
     ]
    }
   ],
   "source": [
    "from sklearn.model_selection import cross_val_score, KFold\n",
    "\n",
    "# define cross-validation strategy\n",
    "cv = KFold(n_splits=5, shuffle=True, random_state=42)\n",
    "\n",
    "# compute cross-validated R^2 scores\n",
    "cv_scores = cross_val_score(ols, X_train_scaled, y_train, cv=cv, scoring='r2')\n",
    "\n",
    "print(\"Cross-validated R^2 scores (OLS):\", cv_scores)\n",
    "print(\"Mean CV R^2 (OLS):\", np.mean(cv_scores))"
   ]
  },
  {
   "cell_type": "code",
   "execution_count": 101,
   "metadata": {},
   "outputs": [
    {
     "data": {
      "text/plain": [
       "array([27.56749648, 57.72438096, 87.1780837 ])"
      ]
     },
     "execution_count": 101,
     "metadata": {},
     "output_type": "execute_result"
    }
   ],
   "source": [
    "ols.coef_"
   ]
  },
  {
   "cell_type": "code",
   "execution_count": 102,
   "metadata": {},
   "outputs": [
    {
     "data": {
      "text/plain": [
       "array([27.54383888, 57.65719607, 87.07138788])"
      ]
     },
     "execution_count": 102,
     "metadata": {},
     "output_type": "execute_result"
    }
   ],
   "source": [
    "ridge_cv.coef_"
   ]
  },
  {
   "cell_type": "code",
   "execution_count": 103,
   "metadata": {},
   "outputs": [
    {
     "data": {
      "text/plain": [
       "0.1"
      ]
     },
     "execution_count": 103,
     "metadata": {},
     "output_type": "execute_result"
    }
   ],
   "source": [
    "ridge_cv.alpha_"
   ]
  },
  {
   "cell_type": "markdown",
   "metadata": {},
   "source": [
    "## Testing LASSO \n",
    "\n",
    "(same as ridge)\n",
    "What I want to know: whether if it just gives a model that is useful for predictions OR it is actually able to capture the true underlying relationship. \n",
    "\n",
    "We reuse the same generated dataframe from previous sections, with relationship\n",
    "$$Y=X_1+2X_2+3X_3$$\n",
    "where $X_1$ and $X_2$ are correlated with $X_2=2X_1$."
   ]
  },
  {
   "cell_type": "code",
   "execution_count": 104,
   "metadata": {},
   "outputs": [
    {
     "name": "stdout",
     "output_type": "stream",
     "text": [
      "Model score (R^2) for OLS:    0.9968497537026608\n",
      "Model score (R^2) for ridge:  0.996818497465305\n",
      "Model score (R^2) for lasso:  0.996792805178038\n",
      "Alpha selected out of [0.0001, 0.001, 0.01, 0.1, 1, 10]: 0.1\n"
     ]
    }
   ],
   "source": [
    "#Lasso Cross validation\n",
    "lasso_cv = LassoCV(alphas = [0.0001, 0.001,0.01, 0.1, 1, 10], random_state=42).fit(X_train_scaled, y_train)\n",
    "\n",
    "y_pred_lasso=lasso_cv.predict(X_test_scaled)\n",
    "#score\n",
    "# print(lasso_cv.score(X_train, y_train))\n",
    "# print(lasso_cv.score(X_test, y_test))\n",
    "r2_lasso=r2_score(y_test,y_pred_lasso)\n",
    "\n",
    "# compare\n",
    "print(\"Model score (R^2) for OLS:   \", r2_score(y_test,y_pred_ols))\n",
    "print(\"Model score (R^2) for ridge: \", r2_score(y_test,y_pred_ridge))\n",
    "print(\"Model score (R^2) for lasso: \", r2_lasso)\n",
    "print(f'Alpha selected out of {lasso_cv.alphas}: {lasso_cv.alpha_}')"
   ]
  },
  {
   "cell_type": "code",
   "execution_count": 105,
   "metadata": {},
   "outputs": [
    {
     "name": "stdout",
     "output_type": "stream",
     "text": [
      "Test MSE for OLS:    30.742277039381314\n",
      "Test MSE for ridge:  31.04729697030269\n",
      "Test MSE for lasso:  31.29802003713197\n"
     ]
    }
   ],
   "source": [
    "print(\"Test MSE for OLS:   \", mean_squared_error(y_test,y_pred_ols))\n",
    "print(\"Test MSE for ridge: \", mean_squared_error(y_test,y_pred_ridge))\n",
    "print(\"Test MSE for lasso: \", mean_squared_error(y_test,y_pred_lasso))"
   ]
  },
  {
   "cell_type": "markdown",
   "metadata": {},
   "source": [
    "## Testing statsmodel"
   ]
  },
  {
   "cell_type": "code",
   "execution_count": 126,
   "metadata": {},
   "outputs": [
    {
     "data": {
      "text/html": [
       "<div>\n",
       "<style scoped>\n",
       "    .dataframe tbody tr th:only-of-type {\n",
       "        vertical-align: middle;\n",
       "    }\n",
       "\n",
       "    .dataframe tbody tr th {\n",
       "        vertical-align: top;\n",
       "    }\n",
       "\n",
       "    .dataframe thead th {\n",
       "        text-align: right;\n",
       "    }\n",
       "</style>\n",
       "<table border=\"1\" class=\"dataframe\">\n",
       "  <thead>\n",
       "    <tr style=\"text-align: right;\">\n",
       "      <th></th>\n",
       "      <th>coef</th>\n",
       "      <th>std err</th>\n",
       "      <th>t</th>\n",
       "      <th>P&gt;|t|</th>\n",
       "    </tr>\n",
       "  </thead>\n",
       "  <tbody>\n",
       "    <tr>\n",
       "      <th>const</th>\n",
       "      <td>-2.0558</td>\n",
       "      <td>1.605</td>\n",
       "      <td>-1.281</td>\n",
       "      <td>0.204</td>\n",
       "    </tr>\n",
       "    <tr>\n",
       "      <th>col_1</th>\n",
       "      <td>0.7008</td>\n",
       "      <td>0.002</td>\n",
       "      <td>295.957</td>\n",
       "      <td>0.000</td>\n",
       "    </tr>\n",
       "    <tr>\n",
       "      <th>col_2</th>\n",
       "      <td>2.1025</td>\n",
       "      <td>0.007</td>\n",
       "      <td>295.957</td>\n",
       "      <td>0.000</td>\n",
       "    </tr>\n",
       "    <tr>\n",
       "      <th>col_3</th>\n",
       "      <td>3.0273</td>\n",
       "      <td>0.023</td>\n",
       "      <td>128.825</td>\n",
       "      <td>0.000</td>\n",
       "    </tr>\n",
       "  </tbody>\n",
       "</table>\n",
       "</div>"
      ],
      "text/plain": [
       "         coef  std err        t  P>|t|\n",
       "const -2.0558    1.605   -1.281  0.204\n",
       "col_1  0.7008    0.002  295.957  0.000\n",
       "col_2  2.1025    0.007  295.957  0.000\n",
       "col_3  3.0273    0.023  128.825  0.000"
      ]
     },
     "execution_count": 126,
     "metadata": {},
     "output_type": "execute_result"
    }
   ],
   "source": [
    "X_train = sm.add_constant(X_train)\n",
    "model_OLS=sm.OLS(y_train,X_train)\n",
    "results_OLS=model_OLS.fit()\n",
    "summarize(results_OLS)"
   ]
  },
  {
   "cell_type": "code",
   "execution_count": 115,
   "metadata": {},
   "outputs": [
    {
     "data": {
      "text/html": [
       "<table class=\"simpletable\">\n",
       "<caption>OLS Regression Results</caption>\n",
       "<tr>\n",
       "  <th>Dep. Variable:</th>          <td>col_4</td>      <th>  R-squared (uncentered):</th>      <td>   1.000</td> \n",
       "</tr>\n",
       "<tr>\n",
       "  <th>Model:</th>                   <td>OLS</td>       <th>  Adj. R-squared (uncentered):</th> <td>   1.000</td> \n",
       "</tr>\n",
       "<tr>\n",
       "  <th>Method:</th>             <td>Least Squares</td>  <th>  F-statistic:       </th>          <td>3.687e+05</td>\n",
       "</tr>\n",
       "<tr>\n",
       "  <th>Date:</th>             <td>Tue, 26 Aug 2025</td> <th>  Prob (F-statistic):</th>          <td>8.90e-156</td>\n",
       "</tr>\n",
       "<tr>\n",
       "  <th>Time:</th>                 <td>19:46:00</td>     <th>  Log-Likelihood:    </th>          <td> -253.27</td> \n",
       "</tr>\n",
       "<tr>\n",
       "  <th>No. Observations:</th>      <td>    80</td>      <th>  AIC:               </th>          <td>   510.5</td> \n",
       "</tr>\n",
       "<tr>\n",
       "  <th>Df Residuals:</th>          <td>    78</td>      <th>  BIC:               </th>          <td>   515.3</td> \n",
       "</tr>\n",
       "<tr>\n",
       "  <th>Df Model:</th>              <td>     2</td>      <th>                     </th>              <td> </td>    \n",
       "</tr>\n",
       "<tr>\n",
       "  <th>Covariance Type:</th>      <td>nonrobust</td>    <th>                     </th>              <td> </td>    \n",
       "</tr>\n",
       "</table>\n",
       "<table class=\"simpletable\">\n",
       "<tr>\n",
       "    <td></td>       <th>coef</th>     <th>std err</th>      <th>t</th>      <th>P>|t|</th>  <th>[0.025</th>    <th>0.975]</th>  \n",
       "</tr>\n",
       "<tr>\n",
       "  <th>col_1</th> <td>    0.7009</td> <td>    0.002</td> <td>  453.152</td> <td> 0.000</td> <td>    0.698</td> <td>    0.704</td>\n",
       "</tr>\n",
       "<tr>\n",
       "  <th>col_2</th> <td>    2.1028</td> <td>    0.005</td> <td>  453.152</td> <td> 0.000</td> <td>    2.094</td> <td>    2.112</td>\n",
       "</tr>\n",
       "<tr>\n",
       "  <th>col_3</th> <td>    2.9919</td> <td>    0.017</td> <td>  174.020</td> <td> 0.000</td> <td>    2.958</td> <td>    3.026</td>\n",
       "</tr>\n",
       "</table>\n",
       "<table class=\"simpletable\">\n",
       "<tr>\n",
       "  <th>Omnibus:</th>       <td>23.316</td> <th>  Durbin-Watson:     </th> <td>   2.076</td>\n",
       "</tr>\n",
       "<tr>\n",
       "  <th>Prob(Omnibus):</th> <td> 0.000</td> <th>  Jarque-Bera (JB):  </th> <td>   4.980</td>\n",
       "</tr>\n",
       "<tr>\n",
       "  <th>Skew:</th>          <td> 0.139</td> <th>  Prob(JB):          </th> <td>  0.0829</td>\n",
       "</tr>\n",
       "<tr>\n",
       "  <th>Kurtosis:</th>      <td> 1.810</td> <th>  Cond. No.          </th> <td>5.63e+15</td>\n",
       "</tr>\n",
       "</table><br/><br/>Notes:<br/>[1] R² is computed without centering (uncentered) since the model does not contain a constant.<br/>[2] Standard Errors assume that the covariance matrix of the errors is correctly specified.<br/>[3] The smallest eigenvalue is 9.78e-26. This might indicate that there are<br/>strong multicollinearity problems or that the design matrix is singular."
      ],
      "text/latex": [
       "\\begin{center}\n",
       "\\begin{tabular}{lclc}\n",
       "\\toprule\n",
       "\\textbf{Dep. Variable:}    &      col\\_4      & \\textbf{  R-squared (uncentered):}      &     1.000   \\\\\n",
       "\\textbf{Model:}            &       OLS        & \\textbf{  Adj. R-squared (uncentered):} &     1.000   \\\\\n",
       "\\textbf{Method:}           &  Least Squares   & \\textbf{  F-statistic:       }          & 3.687e+05   \\\\\n",
       "\\textbf{Date:}             & Tue, 26 Aug 2025 & \\textbf{  Prob (F-statistic):}          & 8.90e-156   \\\\\n",
       "\\textbf{Time:}             &     19:46:00     & \\textbf{  Log-Likelihood:    }          &   -253.27   \\\\\n",
       "\\textbf{No. Observations:} &          80      & \\textbf{  AIC:               }          &     510.5   \\\\\n",
       "\\textbf{Df Residuals:}     &          78      & \\textbf{  BIC:               }          &     515.3   \\\\\n",
       "\\textbf{Df Model:}         &           2      & \\textbf{                     }          &             \\\\\n",
       "\\textbf{Covariance Type:}  &    nonrobust     & \\textbf{                     }          &             \\\\\n",
       "\\bottomrule\n",
       "\\end{tabular}\n",
       "\\begin{tabular}{lcccccc}\n",
       "                & \\textbf{coef} & \\textbf{std err} & \\textbf{t} & \\textbf{P$> |$t$|$} & \\textbf{[0.025} & \\textbf{0.975]}  \\\\\n",
       "\\midrule\n",
       "\\textbf{col\\_1} &       0.7009  &        0.002     &   453.152  &         0.000        &        0.698    &        0.704     \\\\\n",
       "\\textbf{col\\_2} &       2.1028  &        0.005     &   453.152  &         0.000        &        2.094    &        2.112     \\\\\n",
       "\\textbf{col\\_3} &       2.9919  &        0.017     &   174.020  &         0.000        &        2.958    &        3.026     \\\\\n",
       "\\bottomrule\n",
       "\\end{tabular}\n",
       "\\begin{tabular}{lclc}\n",
       "\\textbf{Omnibus:}       & 23.316 & \\textbf{  Durbin-Watson:     } &    2.076  \\\\\n",
       "\\textbf{Prob(Omnibus):} &  0.000 & \\textbf{  Jarque-Bera (JB):  } &    4.980  \\\\\n",
       "\\textbf{Skew:}          &  0.139 & \\textbf{  Prob(JB):          } &   0.0829  \\\\\n",
       "\\textbf{Kurtosis:}      &  1.810 & \\textbf{  Cond. No.          } & 5.63e+15  \\\\\n",
       "\\bottomrule\n",
       "\\end{tabular}\n",
       "%\\caption{OLS Regression Results}\n",
       "\\end{center}\n",
       "\n",
       "Notes: \\newline\n",
       " [1] R² is computed without centering (uncentered) since the model does not contain a constant. \\newline\n",
       " [2] Standard Errors assume that the covariance matrix of the errors is correctly specified. \\newline\n",
       " [3] The smallest eigenvalue is 9.78e-26. This might indicate that there are \\newline\n",
       " strong multicollinearity problems or that the design matrix is singular."
      ],
      "text/plain": [
       "<class 'statsmodels.iolib.summary.Summary'>\n",
       "\"\"\"\n",
       "                                 OLS Regression Results                                \n",
       "=======================================================================================\n",
       "Dep. Variable:                  col_4   R-squared (uncentered):                   1.000\n",
       "Model:                            OLS   Adj. R-squared (uncentered):              1.000\n",
       "Method:                 Least Squares   F-statistic:                          3.687e+05\n",
       "Date:                Tue, 26 Aug 2025   Prob (F-statistic):                   8.90e-156\n",
       "Time:                        19:46:00   Log-Likelihood:                         -253.27\n",
       "No. Observations:                  80   AIC:                                      510.5\n",
       "Df Residuals:                      78   BIC:                                      515.3\n",
       "Df Model:                           2                                                  \n",
       "Covariance Type:            nonrobust                                                  \n",
       "==============================================================================\n",
       "                 coef    std err          t      P>|t|      [0.025      0.975]\n",
       "------------------------------------------------------------------------------\n",
       "col_1          0.7009      0.002    453.152      0.000       0.698       0.704\n",
       "col_2          2.1028      0.005    453.152      0.000       2.094       2.112\n",
       "col_3          2.9919      0.017    174.020      0.000       2.958       3.026\n",
       "==============================================================================\n",
       "Omnibus:                       23.316   Durbin-Watson:                   2.076\n",
       "Prob(Omnibus):                  0.000   Jarque-Bera (JB):                4.980\n",
       "Skew:                           0.139   Prob(JB):                       0.0829\n",
       "Kurtosis:                       1.810   Cond. No.                     5.63e+15\n",
       "==============================================================================\n",
       "\n",
       "Notes:\n",
       "[1] R² is computed without centering (uncentered) since the model does not contain a constant.\n",
       "[2] Standard Errors assume that the covariance matrix of the errors is correctly specified.\n",
       "[3] The smallest eigenvalue is 9.78e-26. This might indicate that there are\n",
       "strong multicollinearity problems or that the design matrix is singular.\n",
       "\"\"\""
      ]
     },
     "execution_count": 115,
     "metadata": {},
     "output_type": "execute_result"
    }
   ],
   "source": [
    "results_OLS.summary()"
   ]
  },
  {
   "cell_type": "code",
   "execution_count": 131,
   "metadata": {},
   "outputs": [
    {
     "data": {
      "text/plain": [
       "2.383061614115309e+16"
      ]
     },
     "execution_count": 131,
     "metadata": {},
     "output_type": "execute_result"
    }
   ],
   "source": [
    "results_OLS.condition_number"
   ]
  },
  {
   "cell_type": "code",
   "execution_count": 128,
   "metadata": {},
   "outputs": [
    {
     "data": {
      "text/plain": [
       "(array([0.70082786, 2.10248359, 3.02729549]), -2.055773247245895)"
      ]
     },
     "execution_count": 128,
     "metadata": {},
     "output_type": "execute_result"
    }
   ],
   "source": [
    "model.coef_, model.intercept_"
   ]
  },
  {
   "cell_type": "code",
   "execution_count": 127,
   "metadata": {},
   "outputs": [
    {
     "data": {
      "text/html": [
       "<div>\n",
       "<style scoped>\n",
       "    .dataframe tbody tr th:only-of-type {\n",
       "        vertical-align: middle;\n",
       "    }\n",
       "\n",
       "    .dataframe tbody tr th {\n",
       "        vertical-align: top;\n",
       "    }\n",
       "\n",
       "    .dataframe thead th {\n",
       "        text-align: right;\n",
       "    }\n",
       "</style>\n",
       "<table border=\"1\" class=\"dataframe\">\n",
       "  <thead>\n",
       "    <tr style=\"text-align: right;\">\n",
       "      <th></th>\n",
       "      <th>coef</th>\n",
       "      <th>std err</th>\n",
       "      <th>t</th>\n",
       "      <th>P&gt;|t|</th>\n",
       "    </tr>\n",
       "  </thead>\n",
       "  <tbody>\n",
       "    <tr>\n",
       "      <th>const</th>\n",
       "      <td>-2.0558</td>\n",
       "      <td>1.605</td>\n",
       "      <td>-1.281</td>\n",
       "      <td>0.204</td>\n",
       "    </tr>\n",
       "    <tr>\n",
       "      <th>col_1</th>\n",
       "      <td>0.7008</td>\n",
       "      <td>0.002</td>\n",
       "      <td>295.957</td>\n",
       "      <td>0.000</td>\n",
       "    </tr>\n",
       "    <tr>\n",
       "      <th>col_2</th>\n",
       "      <td>2.1025</td>\n",
       "      <td>0.007</td>\n",
       "      <td>295.957</td>\n",
       "      <td>0.000</td>\n",
       "    </tr>\n",
       "    <tr>\n",
       "      <th>col_3</th>\n",
       "      <td>3.0273</td>\n",
       "      <td>0.023</td>\n",
       "      <td>128.825</td>\n",
       "      <td>0.000</td>\n",
       "    </tr>\n",
       "  </tbody>\n",
       "</table>\n",
       "</div>"
      ],
      "text/plain": [
       "         coef  std err        t  P>|t|\n",
       "const -2.0558    1.605   -1.281  0.204\n",
       "col_1  0.7008    0.002  295.957  0.000\n",
       "col_2  2.1025    0.007  295.957  0.000\n",
       "col_3  3.0273    0.023  128.825  0.000"
      ]
     },
     "execution_count": 127,
     "metadata": {},
     "output_type": "execute_result"
    }
   ],
   "source": [
    "summarize(results_OLS)"
   ]
  },
  {
   "cell_type": "code",
   "execution_count": 2,
   "metadata": {},
   "outputs": [
    {
     "ename": "NameError",
     "evalue": "name 'model_OLS' is not defined",
     "output_type": "error",
     "traceback": [
      "\u001b[0;31m---------------------------------------------------------------------------\u001b[0m",
      "\u001b[0;31mNameError\u001b[0m                                 Traceback (most recent call last)",
      "Cell \u001b[0;32mIn[2], line 2\u001b[0m\n\u001b[1;32m      1\u001b[0m \u001b[38;5;66;03m# ridge using statsmodel\u001b[39;00m\n\u001b[0;32m----> 2\u001b[0m ridge_model\u001b[38;5;241m=\u001b[39mmodel_OLS\u001b[38;5;241m.\u001b[39mfit_regularized(method\u001b[38;5;241m=\u001b[39m\u001b[38;5;124m'\u001b[39m\u001b[38;5;124melastic_net\u001b[39m\u001b[38;5;124m'\u001b[39m,alpha\u001b[38;5;241m=\u001b[39m\u001b[38;5;241m10\u001b[39m, L1_wt\u001b[38;5;241m=\u001b[39m\u001b[38;5;241m0.0\u001b[39m)\n\u001b[1;32m      3\u001b[0m \u001b[38;5;28mprint\u001b[39m(ridge_model\u001b[38;5;241m.\u001b[39mparams)\n",
      "\u001b[0;31mNameError\u001b[0m: name 'model_OLS' is not defined"
     ]
    }
   ],
   "source": [
    "# ridge using statsmodel\n",
    "ridge_model=model_OLS.fit_regularized(method='elastic_net',alpha=10, L1_wt=0.0)\n",
    "print(ridge_model.params)\n"
   ]
  },
  {
   "cell_type": "code",
   "execution_count": null,
   "metadata": {},
   "outputs": [],
   "source": [
    "# lasso using statsmodel"
   ]
  }
 ],
 "metadata": {
  "kernelspec": {
   "display_name": "base",
   "language": "python",
   "name": "python3"
  },
  "language_info": {
   "codemirror_mode": {
    "name": "ipython",
    "version": 3
   },
   "file_extension": ".py",
   "mimetype": "text/x-python",
   "name": "python",
   "nbconvert_exporter": "python",
   "pygments_lexer": "ipython3",
   "version": "3.12.7"
  }
 },
 "nbformat": 4,
 "nbformat_minor": 2
}
