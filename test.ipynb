{
 "cells": [
  {
   "cell_type": "markdown",
   "metadata": {},
   "source": [
    "# Testing `sklearn` and `statsmodel` functions using artificial data\n",
    "\n",
    "1. [Testing how `sklearn` performs with high collinearity](#testing-sklearn-and-statsmodel-functions-using-artificial-data)\n",
    "1. [Testing `StandardScaler`]()\n",
    "1. [Testing ridge regression]()\n"
   ]
  },
  {
   "cell_type": "code",
   "execution_count": 25,
   "metadata": {},
   "outputs": [],
   "source": [
    "# import modules\n",
    "\n",
    "import numpy as np\n",
    "import pandas as pd \n",
    "import matplotlib.pyplot as plt\n",
    "import sklearn.linear_model as skl_lm\n",
    "from sklearn.model_selection import train_test_split\n",
    "from sklearn.preprocessing import StandardScaler\n",
    "from sklearn.linear_model import LinearRegression\n",
    "\n",
    "# ridge\n",
    "from sklearn.linear_model import RidgeCV"
   ]
  },
  {
   "cell_type": "markdown",
   "metadata": {},
   "source": [
    "---\n",
    "\n",
    "## Testing how `sklearn` performs with high collinearity\n",
    "\n",
    "We generate a dataframe with 3 predictors:\n",
    "$$Y=X_1 +2X_2 + 3X_3,$$\n",
    "\n",
    "where $X_1$ and $X_2$ are strongly correlated with the relationship $X_2=2X_1$.\n",
    "\n",
    "Results: \n",
    "- uses pseudoinverse\n",
    "- doesn't give warning\n",
    "- good fit when predictors are not scaled, expected confounding effect when scaled\n",
    "- \"equal weightage distribution\" are due to scaler, not OLS function"
   ]
  },
  {
   "cell_type": "code",
   "execution_count": 23,
   "metadata": {},
   "outputs": [
    {
     "name": "stdout",
     "output_type": "stream",
     "text": [
      "    col_1  col_2  col_3  col_4\n",
      "0      47     94     20    304\n",
      "1       9     18     94    328\n",
      "2      17     34     26    154\n",
      "3      57    114     34    380\n",
      "4      59    118     68    489\n",
      "..    ...    ...    ...    ...\n",
      "95     50    100     48    385\n",
      "96     54    108     52    431\n",
      "97     71    142     89    624\n",
      "98     57    114     88    549\n",
      "99     78    156     62    577\n",
      "\n",
      "[100 rows x 4 columns]\n"
     ]
    }
   ],
   "source": [
    "# set parameters as you like to play around \n",
    "beta1=1\n",
    "beta2=2\n",
    "beta3=3\n",
    "correlation=2 # X_2 = 2*X_1\n",
    "\n",
    "# Define the number of rows and columns\n",
    "num_rows = 100\n",
    "num_cols = 4\n",
    "\n",
    "# Define column names (optional, but good practice)\n",
    "column_names = [f'col_{i+1}' for i in range(num_cols)]\n",
    "\n",
    "# Generate random data using NumPy\n",
    "# For random integers: np.random.randint(low, high, size=(rows, cols))\n",
    "# For random floats: np.random.rand(rows, cols) or np.random.uniform(low, high, size=(rows, cols))\n",
    "random_data = np.random.randint(0, 100, size=(num_rows, num_cols)) # Example: random integers between 0 and 99\n",
    "\n",
    "# Create the DataFrame\n",
    "df = pd.DataFrame(random_data, columns=column_names)\n",
    "\n",
    "for i in range(num_rows):\n",
    "    df.iloc[i,1]=correlation*df.iloc[i,0]\n",
    "    df.iloc[i,num_cols-1] = beta1*df.iloc[i,0] + beta2*df.iloc[i,1] + beta3*df.iloc[i,2] + np.random.randint(-10,10)\n",
    "\n",
    "# Print the generated DataFrame\n",
    "print(df)"
   ]
  },
  {
   "cell_type": "code",
   "execution_count": 8,
   "metadata": {},
   "outputs": [
    {
     "name": "stdout",
     "output_type": "stream",
     "text": [
      "[75.36637295 75.36637295 96.09858325] 364.05\n"
     ]
    }
   ],
   "source": [
    "X=df.drop(columns=['col_4'])\n",
    "y=df['col_4']\n",
    "\n",
    "X_train, X_test, y_train, y_test = train_test_split(X,y,train_size=0.8,random_state=42)\n",
    "\n",
    "# standardise\n",
    "scaler=StandardScaler()\n",
    "X_train_scaled=scaler.fit_transform(X_train)\n",
    "X_test_scaled=scaler.transform(X_test)\n",
    "\n",
    "# build model\n",
    "model=LinearRegression()\n",
    "model_scaled=model.fit(X_train_scaled,y_train)\n",
    "\n",
    "print(model_scaled.coef_, model_scaled.intercept_)\n"
   ]
  },
  {
   "cell_type": "markdown",
   "metadata": {},
   "source": [
    "Real relationship:\n",
    "\n",
    "$$Y=X_1+2X_2+3X_3$$"
   ]
  },
  {
   "cell_type": "code",
   "execution_count": 9,
   "metadata": {},
   "outputs": [
    {
     "name": "stdout",
     "output_type": "stream",
     "text": [
      "150.73274590345403\n"
     ]
    }
   ],
   "source": [
    "# equally distributed weightage?\n",
    "\n",
    "b1=(model_scaled.coef_[1]+model_scaled.coef_[0])\n",
    "\n",
    "print(b1)"
   ]
  },
  {
   "cell_type": "code",
   "execution_count": 10,
   "metadata": {},
   "outputs": [
    {
     "name": "stdout",
     "output_type": "stream",
     "text": [
      "[ 75.36637295  75.36637295  96.09858325 364.05      ]\n"
     ]
    }
   ],
   "source": [
    "# pseudoinverse for scaled data\n",
    "\n",
    "pinv_arr=np.ones((80,4))\n",
    "for i in range(X_train_scaled.shape[0]):\n",
    "    for j in range(4):\n",
    "        if j<3:\n",
    "            pinv_arr[i,j]=X_train_scaled[i,j]\n",
    "\n",
    "pinv=np.linalg.pinv(pinv_arr)\n",
    "print(np.matmul(pinv,y_train))"
   ]
  },
  {
   "cell_type": "markdown",
   "metadata": {},
   "source": [
    "### What if we remove the second (collinear) column?\n",
    "\n",
    "Now, there is no collinearity in our model, and we see that the coefficient for the first predictor is the sum of the coefficients of the two correlated variables in the previous model."
   ]
  },
  {
   "cell_type": "code",
   "execution_count": 11,
   "metadata": {},
   "outputs": [
    {
     "name": "stdout",
     "output_type": "stream",
     "text": [
      "[150.7327459   96.09858325] 364.05\n"
     ]
    }
   ],
   "source": [
    "X_new=X.drop(columns=['col_2'])\n",
    "\n",
    "X_new_train, X_new_test, y_train, y_test = train_test_split(X_new,y,train_size=0.8,random_state=42)\n",
    "\n",
    "# standardise\n",
    "X_new_train_scaled=scaler.fit_transform(X_new_train)\n",
    "X_new_test_scaled=scaler.transform(X_new_test)\n",
    "\n",
    "# build model\n",
    "model=LinearRegression()\n",
    "model_new=model.fit(X_new_train_scaled,y_train)\n",
    "\n",
    "print(model_new.coef_, model_new.intercept_)"
   ]
  },
  {
   "cell_type": "markdown",
   "metadata": {},
   "source": [
    "## Testing StandardScaler\n",
    "\n",
    "### 1. What if we don't scale the regressors?"
   ]
  },
  {
   "cell_type": "code",
   "execution_count": 12,
   "metadata": {},
   "outputs": [
    {
     "name": "stdout",
     "output_type": "stream",
     "text": [
      "[1.00347213 2.00694427 2.99946173] -1.6314176005353715\n"
     ]
    }
   ],
   "source": [
    "# model fit to unscaled data\n",
    "\n",
    "model_unscaled=LinearRegression()\n",
    "model_unscaled.fit(X_train,y_train)\n",
    "print(model_unscaled.coef_, model_unscaled.intercept_)\n",
    "\n",
    "# real relationship: Y=X_1+2X_2+3X_3"
   ]
  },
  {
   "cell_type": "code",
   "execution_count": 13,
   "metadata": {},
   "outputs": [
    {
     "name": "stdout",
     "output_type": "stream",
     "text": [
      "[ 1.00347213  2.00694427  2.99946173 -1.6314176 ]\n"
     ]
    }
   ],
   "source": [
    "# using pseudoinverse for unscaled data matrix\n",
    "\n",
    "# add one column of ones for constant term\n",
    "pinv_arr=np.ones((80,4))\n",
    "for i in range(80):\n",
    "    for j in range(4):\n",
    "        if j<3:\n",
    "            pinv_arr[i,j]=X_train.iloc[i,j]\n",
    "\n",
    "pinv2=np.linalg.pinv(pinv_arr)\n",
    "print(np.matmul(pinv2,y_train))"
   ]
  },
  {
   "cell_type": "code",
   "execution_count": 14,
   "metadata": {},
   "outputs": [
    {
     "data": {
      "text/plain": [
       "<bound method NDFrame.head of     col_1  col_2  col_3\n",
       "55     36     72     76\n",
       "88     10     20     90\n",
       "26     54    108     12\n",
       "42      7     14     19\n",
       "69     63    126     50\n",
       "..    ...    ...    ...\n",
       "60     89    178     73\n",
       "71     98    196     82\n",
       "14     16     32     48\n",
       "92     42     84     95\n",
       "51     79    158     49\n",
       "\n",
       "[80 rows x 3 columns]>"
      ]
     },
     "execution_count": 14,
     "metadata": {},
     "output_type": "execute_result"
    }
   ],
   "source": [
    "X_train.head"
   ]
  },
  {
   "cell_type": "code",
   "execution_count": 15,
   "metadata": {},
   "outputs": [
    {
     "data": {
      "text/plain": [
       "array([[-2.31757031e-01, -2.31757031e-01,  8.09960244e-01],\n",
       "       [-1.09720519e+00, -1.09720519e+00,  1.24693302e+00],\n",
       "       [ 3.67399387e-01,  3.67399387e-01, -1.18762957e+00],\n",
       "       [-1.19706459e+00, -1.19706459e+00, -9.69143183e-01],\n",
       "       [ 6.66977596e-01,  6.66977596e-01, -1.56061704e-03],\n",
       "       [-1.19706459e+00, -1.19706459e+00, -1.56217766e+00],\n",
       "       [-6.64481111e-01, -6.64481111e-01,  2.16925769e-01],\n",
       "       [-4.64762305e-01, -4.64762305e-01,  1.34057004e+00],\n",
       "       [-6.31194643e-01, -6.31194643e-01, -1.03156786e+00],\n",
       "       [-4.98048772e-01, -4.98048772e-01,  9.34809608e-01],\n",
       "       [-1.06391872e+00, -1.06391872e+00,  6.85110881e-01],\n",
       "       [-2.98329966e-01, -2.98329966e-01, -1.28126659e+00],\n",
       "       [ 1.29942048e+00,  1.29942048e+00, -5.32170411e-01],\n",
       "       [ 1.09970168e+00,  1.09970168e+00, -7.19444456e-01],\n",
       "       [-1.39678340e+00, -1.39678340e+00,  1.52784408e+00],\n",
       "       [ 1.36599342e+00,  1.36599342e+00,  6.53898540e-01],\n",
       "       [ 1.49913929e+00,  1.49913929e+00,  1.49663174e+00],\n",
       "       [ 1.79871750e+00,  1.79871750e+00,  4.66624495e-01],\n",
       "       [ 3.34112919e-01,  3.34112919e-01, -5.94595093e-01],\n",
       "       [-7.31054046e-01, -7.31054046e-01, -1.46854064e+00],\n",
       "       [-1.23035106e+00, -1.23035106e+00,  1.49663174e+00],\n",
       "       [ 7.00264063e-01,  7.00264063e-01, -5.00958070e-01],\n",
       "       [ 1.46585282e+00,  1.46585282e+00,  4.35412155e-01],\n",
       "       [ 3.45347102e-02,  3.45347102e-02,  1.18450833e+00],\n",
       "       [ 6.33691128e-01,  6.33691128e-01,  1.24693302e+00],\n",
       "       [ 9.66555805e-01,  9.66555805e-01, -1.56217766e+00],\n",
       "       [ 6.33691128e-01,  6.33691128e-01,  3.72987473e-01],\n",
       "       [-3.31616434e-01, -3.31616434e-01, -1.53096532e+00],\n",
       "       [ 1.83200396e+00,  1.83200396e+00,  9.66021949e-01],\n",
       "       [ 1.29942048e+00,  1.29942048e+00, -1.56217766e+00],\n",
       "       [-1.33021046e+00, -1.33021046e+00,  1.23288746e-01],\n",
       "       [-1.26363753e+00, -1.26363753e+00, -5.63382752e-01],\n",
       "       [-1.33021046e+00, -1.33021046e+00,  9.66021949e-01],\n",
       "       [-1.13049166e+00, -1.13049166e+00,  1.23288746e-01],\n",
       "       [ 3.00826451e-01,  3.00826451e-01,  4.04199814e-01],\n",
       "       [-8.97486384e-01, -8.97486384e-01,  9.34809608e-01],\n",
       "       [-3.20382251e-02, -3.20382251e-02,  1.43420706e+00],\n",
       "       [ 7.33550531e-01,  7.33550531e-01, -4.38533389e-01],\n",
       "       [ 1.53242575e+00,  1.53242575e+00, -9.37930842e-01],\n",
       "       [-7.64340514e-01, -7.64340514e-01,  1.43420706e+00],\n",
       "       [-1.13049166e+00, -1.13049166e+00, -8.75506160e-01],\n",
       "       [ 1.24824254e-03,  1.24824254e-03, -1.21884191e+00],\n",
       "       [-1.16377813e+00, -1.16377813e+00, -3.44896366e-01],\n",
       "       [ 7.00264063e-01,  7.00264063e-01, -1.28126659e+00],\n",
       "       [-2.31757031e-01, -2.31757031e-01, -1.03156786e+00],\n",
       "       [ 2.67539984e-01,  2.67539984e-01, -1.25005425e+00],\n",
       "       [ 1.03312874e+00,  1.03312874e+00, -3.13684025e-01],\n",
       "       [ 8.99982869e-01,  8.99982869e-01, -1.25005425e+00],\n",
       "       [-4.64762305e-01, -4.64762305e-01, -1.06278021e+00],\n",
       "       [ 5.67118193e-01,  5.67118193e-01, -1.25005425e+00],\n",
       "       [-1.43006987e+00, -1.43006987e+00, -1.49975298e+00],\n",
       "       [-7.64340514e-01, -7.64340514e-01, -1.06278021e+00],\n",
       "       [ 1.36599342e+00,  1.36599342e+00, -1.40611595e+00],\n",
       "       [ 2.00967048e-01,  2.00967048e-01, -9.69143183e-01],\n",
       "       [-9.30772852e-01, -9.30772852e-01, -2.20047003e-01],\n",
       "       [ 4.33972322e-01,  4.33972322e-01,  1.34057004e+00],\n",
       "       [ 1.06641521e+00,  1.06641521e+00,  1.21572068e+00],\n",
       "       [ 1.67680581e-01,  1.67680581e-01, -1.15641723e+00],\n",
       "       [-2.31757031e-01, -2.31757031e-01,  9.34809608e-01],\n",
       "       [-1.09720519e+00, -1.09720519e+00,  8.09960244e-01],\n",
       "       [ 1.03312874e+00,  1.03312874e+00, -1.09399255e+00],\n",
       "       [-1.16377813e+00, -1.16377813e+00, -6.88232115e-01],\n",
       "       [-1.13049166e+00, -1.13049166e+00,  1.23288746e-01],\n",
       "       [-1.29692400e+00, -1.29692400e+00,  1.18450833e+00],\n",
       "       [ 8.00123466e-01,  8.00123466e-01, -1.57622321e-01],\n",
       "       [-9.30772852e-01, -9.30772852e-01,  5.29049177e-01],\n",
       "       [ 2.67539984e-01,  2.67539984e-01,  1.46541940e+00],\n",
       "       [-1.03063225e+00, -1.03063225e+00,  9.03597267e-01],\n",
       "       [-1.06391872e+00, -1.06391872e+00,  7.16323222e-01],\n",
       "       [-1.33021046e+00, -1.33021046e+00,  4.66624495e-01],\n",
       "       [-1.19706459e+00, -1.19706459e+00, -2.82471684e-01],\n",
       "       [ 1.06641521e+00,  1.06641521e+00, -3.76108707e-01],\n",
       "       [ 1.16627461e+00,  1.16627461e+00,  8.09960244e-01],\n",
       "       [ 1.26613401e+00,  1.26613401e+00,  1.46541940e+00],\n",
       "       [-1.31897628e-01, -1.31897628e-01, -2.51259344e-01],\n",
       "       [ 1.53242575e+00,  1.53242575e+00,  7.16323222e-01],\n",
       "       [ 1.83200396e+00,  1.83200396e+00,  9.97234289e-01],\n",
       "       [-8.97486384e-01, -8.97486384e-01, -6.39852987e-02],\n",
       "       [-3.20382251e-02, -3.20382251e-02,  1.40299472e+00],\n",
       "       [ 1.19956108e+00,  1.19956108e+00, -3.27729579e-02]])"
      ]
     },
     "execution_count": 15,
     "metadata": {},
     "output_type": "execute_result"
    }
   ],
   "source": [
    "X_train_scaled"
   ]
  },
  {
   "cell_type": "markdown",
   "metadata": {},
   "source": [
    "Let's compare $\\mathbf{X}$ before and after scaling "
   ]
  },
  {
   "cell_type": "code",
   "execution_count": 16,
   "metadata": {},
   "outputs": [
    {
     "name": "stdout",
     "output_type": "stream",
     "text": [
      "42.9625 902.5360937500003\n"
     ]
    },
    {
     "name": "stderr",
     "output_type": "stream",
     "text": [
      "/var/folders/n1/xb4gyj5530g0114s2tcl_l_c0000gn/T/ipykernel_10519/654684410.py:7: FutureWarning: Setting an item of incompatible dtype is deprecated and will raise in a future error of pandas. Value '55   -0.231757\n",
      "88   -1.097205\n",
      "26    0.367399\n",
      "42   -1.197065\n",
      "69    0.666978\n",
      "        ...   \n",
      "60    1.532426\n",
      "71    1.832004\n",
      "14   -0.897486\n",
      "92   -0.032038\n",
      "51    1.199561\n",
      "Name: col_1, Length: 80, dtype: float64' has dtype incompatible with int64, please explicitly cast to a compatible dtype first.\n",
      "  X_new.iloc[:,0]=(X_train.iloc[:,0] - mean1 )/sd1\n"
     ]
    },
    {
     "data": {
      "text/plain": [
       "55   -0.231757\n",
       "88   -1.097205\n",
       "26    0.367399\n",
       "42   -1.197065\n",
       "69    0.666978\n",
       "        ...   \n",
       "60    1.532426\n",
       "71    1.832004\n",
       "14   -0.897486\n",
       "92   -0.032038\n",
       "51    1.199561\n",
       "Name: col_1, Length: 80, dtype: float64"
      ]
     },
     "execution_count": 16,
     "metadata": {},
     "output_type": "execute_result"
    }
   ],
   "source": [
    "# trying to standardise a column manually``\n",
    "\n",
    "X_new=X_train\n",
    "mean1=np.mean(X_train.iloc[:,0])\n",
    "var1=np.var(X_train.iloc[:,0])\n",
    "sd1=var1**0.5\n",
    "X_new.iloc[:,0]=(X_train.iloc[:,0] - mean1 )/sd1\n",
    "print(mean1,var1)\n",
    "X_new.iloc[:,0]"
   ]
  },
  {
   "cell_type": "markdown",
   "metadata": {},
   "source": [
    "### 2. Testing the scaler with non-collinear data\n",
    "\n",
    "Results: everything normal and consistent. The comparison between output of scaled and unscaled model is as expected."
   ]
  },
  {
   "cell_type": "code",
   "execution_count": 17,
   "metadata": {},
   "outputs": [
    {
     "name": "stdout",
     "output_type": "stream",
     "text": [
      "    col_1  col_2  col_3  col_4\n",
      "0      57      9     89    342\n",
      "1      56     43     17    192\n",
      "2      30     19     65    262\n",
      "3      18     99     13    261\n",
      "4      71     84     41    364\n",
      "..    ...    ...    ...    ...\n",
      "95     63     22     28    184\n",
      "96     72      6     22    141\n",
      "97      7     19     35    155\n",
      "98     37      1     30    128\n",
      "99     88     84     25    335\n",
      "\n",
      "[100 rows x 4 columns]\n"
     ]
    }
   ],
   "source": [
    "# Define the number of rows and columns\n",
    "num_rows = 100\n",
    "num_cols = 4\n",
    "\n",
    "# Define column names (optional, but good practice)\n",
    "column_names = [f'col_{i+1}' for i in range(num_cols)]\n",
    "\n",
    "# Generate random data using NumPy\n",
    "# For random integers: np.random.randint(low, high, size=(rows, cols))\n",
    "# For random floats: np.random.rand(rows, cols) or np.random.uniform(low, high, size=(rows, cols))\n",
    "\n",
    "random_data = np.random.randint(0, 100, size=(num_rows, num_cols)) # Example: random integers between 0 and 99\n",
    "\n",
    "# Create the DataFrame\n",
    "df = pd.DataFrame(random_data, columns=column_names)\n",
    "\n",
    "for i in range(num_rows):\n",
    "    df.iloc[i,num_cols-1]=df.iloc[i,0]+2*df.iloc[i,1]+3*df.iloc[i,2]+np.random.randint(-10,10)\n",
    "\n",
    "# Print the generated DataFrame\n",
    "print(df)"
   ]
  },
  {
   "cell_type": "markdown",
   "metadata": {},
   "source": [
    "## Testing ridge using artificial data"
   ]
  },
  {
   "cell_type": "code",
   "execution_count": 18,
   "metadata": {},
   "outputs": [],
   "source": [
    "X=df.drop(columns=['col_4'])\n",
    "y=df['col_4']\n",
    "\n",
    "X_train, X_test, y_train, y_test = train_test_split(X,y,train_size=0.8,random_state=42)\n",
    "\n",
    "# standardise\n",
    "scaler=StandardScaler()\n",
    "X_train_scaled=scaler.fit_transform(X_train)\n",
    "X_test_scaled=scaler.transform(X_test)\n",
    "\n",
    "# correct\n",
    "model1=LinearRegression()\n",
    "model2=LinearRegression()\n",
    "model_scaled=model1.fit(X_train_scaled,y_train)\n",
    "model_unscaled=model2.fit(X_train,y_train)\n",
    "\n",
    "# wrong\n",
    "# model=LinearRegression()\n",
    "# model_scaled=model.fit(X_train_scaled,y_train)\n",
    "# model_unscaled=model.fit(X_train,y_train)\n"
   ]
  },
  {
   "cell_type": "code",
   "execution_count": 19,
   "metadata": {},
   "outputs": [
    {
     "data": {
      "text/html": [
       "<div>\n",
       "<style scoped>\n",
       "    .dataframe tbody tr th:only-of-type {\n",
       "        vertical-align: middle;\n",
       "    }\n",
       "\n",
       "    .dataframe tbody tr th {\n",
       "        vertical-align: top;\n",
       "    }\n",
       "\n",
       "    .dataframe thead th {\n",
       "        text-align: right;\n",
       "    }\n",
       "</style>\n",
       "<table border=\"1\" class=\"dataframe\">\n",
       "  <thead>\n",
       "    <tr style=\"text-align: right;\">\n",
       "      <th></th>\n",
       "      <th>col_1</th>\n",
       "      <th>col_2</th>\n",
       "      <th>col_3</th>\n",
       "      <th>col_4</th>\n",
       "    </tr>\n",
       "  </thead>\n",
       "  <tbody>\n",
       "    <tr>\n",
       "      <th>0</th>\n",
       "      <td>57</td>\n",
       "      <td>9</td>\n",
       "      <td>89</td>\n",
       "      <td>342</td>\n",
       "    </tr>\n",
       "    <tr>\n",
       "      <th>1</th>\n",
       "      <td>56</td>\n",
       "      <td>43</td>\n",
       "      <td>17</td>\n",
       "      <td>192</td>\n",
       "    </tr>\n",
       "    <tr>\n",
       "      <th>2</th>\n",
       "      <td>30</td>\n",
       "      <td>19</td>\n",
       "      <td>65</td>\n",
       "      <td>262</td>\n",
       "    </tr>\n",
       "    <tr>\n",
       "      <th>3</th>\n",
       "      <td>18</td>\n",
       "      <td>99</td>\n",
       "      <td>13</td>\n",
       "      <td>261</td>\n",
       "    </tr>\n",
       "    <tr>\n",
       "      <th>4</th>\n",
       "      <td>71</td>\n",
       "      <td>84</td>\n",
       "      <td>41</td>\n",
       "      <td>364</td>\n",
       "    </tr>\n",
       "    <tr>\n",
       "      <th>...</th>\n",
       "      <td>...</td>\n",
       "      <td>...</td>\n",
       "      <td>...</td>\n",
       "      <td>...</td>\n",
       "    </tr>\n",
       "    <tr>\n",
       "      <th>95</th>\n",
       "      <td>63</td>\n",
       "      <td>22</td>\n",
       "      <td>28</td>\n",
       "      <td>184</td>\n",
       "    </tr>\n",
       "    <tr>\n",
       "      <th>96</th>\n",
       "      <td>72</td>\n",
       "      <td>6</td>\n",
       "      <td>22</td>\n",
       "      <td>141</td>\n",
       "    </tr>\n",
       "    <tr>\n",
       "      <th>97</th>\n",
       "      <td>7</td>\n",
       "      <td>19</td>\n",
       "      <td>35</td>\n",
       "      <td>155</td>\n",
       "    </tr>\n",
       "    <tr>\n",
       "      <th>98</th>\n",
       "      <td>37</td>\n",
       "      <td>1</td>\n",
       "      <td>30</td>\n",
       "      <td>128</td>\n",
       "    </tr>\n",
       "    <tr>\n",
       "      <th>99</th>\n",
       "      <td>88</td>\n",
       "      <td>84</td>\n",
       "      <td>25</td>\n",
       "      <td>335</td>\n",
       "    </tr>\n",
       "  </tbody>\n",
       "</table>\n",
       "<p>100 rows × 4 columns</p>\n",
       "</div>"
      ],
      "text/plain": [
       "    col_1  col_2  col_3  col_4\n",
       "0      57      9     89    342\n",
       "1      56     43     17    192\n",
       "2      30     19     65    262\n",
       "3      18     99     13    261\n",
       "4      71     84     41    364\n",
       "..    ...    ...    ...    ...\n",
       "95     63     22     28    184\n",
       "96     72      6     22    141\n",
       "97      7     19     35    155\n",
       "98     37      1     30    128\n",
       "99     88     84     25    335\n",
       "\n",
       "[100 rows x 4 columns]"
      ]
     },
     "execution_count": 19,
     "metadata": {},
     "output_type": "execute_result"
    }
   ],
   "source": [
    "df"
   ]
  },
  {
   "cell_type": "code",
   "execution_count": 20,
   "metadata": {},
   "outputs": [
    {
     "data": {
      "text/plain": [
       "array([[ 1.36657538,  1.5713347 , -1.46901314],\n",
       "       [ 0.42872953,  1.28969144, -0.11615039],\n",
       "       [ 0.22776256, -0.77569249, -1.29100488],\n",
       "       [ 1.13211392, -0.55663661,  1.23671236],\n",
       "       [ 0.6296965 ,  1.10192927,  0.73828924],\n",
       "       [ 1.19910291,  1.13322296, -0.65017516],\n",
       "       [ 1.40006988, -0.83827988,  1.84194043],\n",
       "       [ 0.76367448, -1.33897901, -0.82818341],\n",
       "       [ 1.03163043,  1.41486622,  0.20426447],\n",
       "       [-0.24116036, -0.08723118,  1.34351732],\n",
       "       [-0.24116036, -0.90086727,  0.20426447],\n",
       "       [-0.6430943 , -0.18111226, -0.04494708],\n",
       "       [-1.58094015,  1.32098514, -1.32660653],\n",
       "       [-0.47562182,  0.88287339, -0.43656525],\n",
       "       [ 0.73017998, -0.33758074, -1.54021644],\n",
       "       [ 0.46222403,  0.56993644, -0.75698011],\n",
       "       [-0.04019339,  0.28829317,  0.48907768],\n",
       "       [-1.51395116,  0.97675448,  1.55712722],\n",
       "       [-0.71008329, -0.14981857,  0.95189915],\n",
       "       [-1.07852273, -0.6818114 ,  0.31106943],\n",
       "       [ 1.63453134,  1.35227883,  1.05870411],\n",
       "       [-1.17900621, -0.27499335,  1.52152557],\n",
       "       [-1.2459952 ,  0.75769861, -0.93498837],\n",
       "       [ 0.46222403, -0.83827988, -0.61457351],\n",
       "       [ 0.52921302, -0.93216097, -0.29415864],\n",
       "       [-0.37513834,  0.44476165,  0.41787438],\n",
       "       [ 0.49571852, -1.18251053, -0.29415864],\n",
       "       [ 1.46705886,  0.88287339,  1.09430576],\n",
       "       [-0.40863283, -1.05733575, -1.18419993],\n",
       "       [-1.21250071,  0.28829317, -0.11615039],\n",
       "       [-1.41346767, -1.05733575, -1.39780983],\n",
       "       [-1.04502823,  1.5713347 , -1.14859827],\n",
       "       [ 1.16560841, -0.74439879,  0.41787438],\n",
       "       [ 0.46222403, -1.4328601 ,  1.23671236],\n",
       "       [-1.51395116,  1.28969144, -0.93498837],\n",
       "       [-0.81056677,  1.22710405, -0.08054874],\n",
       "       [ 1.40006988,  1.47745362, -0.93498837],\n",
       "       [ 0.46222403, -1.27639162,  1.23671236],\n",
       "       [ 0.56270751, -1.30768532, -1.14859827],\n",
       "       [-0.30814935, -1.30768532, -1.21980158],\n",
       "       [-1.21250071, -0.93216097,  1.05870411],\n",
       "       [ 1.29958639,  1.10192927, -0.72137846],\n",
       "       [ 0.76367448, -1.27639162, -0.68577681],\n",
       "       [-1.34647868,  0.820286  ,  1.91314374],\n",
       "       [ 0.83066347, -0.49404922,  0.45347603],\n",
       "       [-1.44696217, -0.27499335, -1.04179332],\n",
       "       [-0.97803924,  0.0692373 ,  0.63148429],\n",
       "       [ 0.56270751,  1.19581035,  1.41472062],\n",
       "       [ 0.06029009,  0.31958687,  0.13306117],\n",
       "       [-1.41346767, -0.93216097, -0.36536195],\n",
       "       [ 0.93114695,  0.66381752, -1.61141974],\n",
       "       [ 1.66802583, -0.08723118,  1.09430576],\n",
       "       [-0.17417137,  1.35227883, -1.25540323],\n",
       "       [-0.10718238, -1.24509792,  1.09430576],\n",
       "       [-0.40863283, -1.49544749, -0.5433702 ],\n",
       "       [-1.2459952 , -1.08862944,  1.09430576],\n",
       "       [-0.24116036,  0.47605535, -0.65017516],\n",
       "       [-0.67658879, -0.14981857, -1.54021644],\n",
       "       [-0.77707228,  0.56993644,  0.73828924],\n",
       "       [ 0.06029009,  1.5713347 , -0.79258176],\n",
       "       [-1.14551172, -1.46415379, -1.36220818],\n",
       "       [-0.27465486, -0.52534292, -1.54021644],\n",
       "       [-0.71008329,  0.820286  ,  0.23986613],\n",
       "       [ 0.99813594, -1.24509792,  0.34667108],\n",
       "       [ 0.22776256, -0.18111226, -1.00619167],\n",
       "       [-1.54744565,  1.22710405, -0.86378506],\n",
       "       [ 1.2325974 ,  1.54004101,  0.70268759],\n",
       "       [-0.6430943 , -0.93216097,  0.70268759],\n",
       "       [ 1.53404785, -0.61922401,  1.62833053],\n",
       "       [ 1.16560841, -0.40016814,  0.31106943],\n",
       "       [-1.58094015, -0.46275553, -0.00934543],\n",
       "       [ 0.73017998,  0.88287339,  1.52152557],\n",
       "       [ 1.29958639, -0.52534292,  1.45032227],\n",
       "       [ 0.56270751, -1.4328601 ,  1.12990741],\n",
       "       [ 0.66319099, -1.30768532, -0.75698011],\n",
       "       [-0.04019339,  1.16451666, -0.5433702 ],\n",
       "       [-1.64792914, -0.02464379,  0.88069585],\n",
       "       [-1.48045666,  0.63252383,  0.41787438],\n",
       "       [ 1.33308089,  1.50874731, -1.11299662],\n",
       "       [ 1.19910291, -1.4015664 ,  0.34667108]])"
      ]
     },
     "execution_count": 20,
     "metadata": {},
     "output_type": "execute_result"
    }
   ],
   "source": [
    "X_train_scaled"
   ]
  },
  {
   "cell_type": "code",
   "execution_count": 21,
   "metadata": {},
   "outputs": [
    {
     "name": "stdout",
     "output_type": "stream",
     "text": [
      "Scaled:  [30.51953743 65.01235948 83.42499829] 281.675\n",
      "Unscaled:  [1.02223648 2.034477   2.9700677 ] -2.3087709684191395\n"
     ]
    }
   ],
   "source": [
    "print(\"Scaled: \",model_scaled.coef_, model_scaled.intercept_)\n",
    "print(\"Unscaled: \",model_unscaled.coef_, model_unscaled.intercept_)"
   ]
  },
  {
   "cell_type": "markdown",
   "metadata": {},
   "source": [
    "## Testing ridge regression\n",
    "\n",
    "What I want to know: whether if it just gives a model that is useful for predictions OR it is actually able to capture the true underlying relationship. \n",
    "\n",
    "We reuse the same generated dataframe from last section, with relationship\n",
    "$$Y=X_1+2X_2+3X_3$$\n",
    "where $X_1$ and $X_2$ are correlated with $X_2=2X_1$."
   ]
  },
  {
   "cell_type": "code",
   "execution_count": 24,
   "metadata": {},
   "outputs": [
    {
     "name": "stdout",
     "output_type": "stream",
     "text": [
      "    col_1  col_2  col_3  col_4\n",
      "0      47     94     20    304\n",
      "1       9     18     94    328\n",
      "2      17     34     26    154\n",
      "3      57    114     34    380\n",
      "4      59    118     68    489\n",
      "..    ...    ...    ...    ...\n",
      "95     50    100     48    385\n",
      "96     54    108     52    431\n",
      "97     71    142     89    624\n",
      "98     57    114     88    549\n",
      "99     78    156     62    577\n",
      "\n",
      "[100 rows x 4 columns]\n"
     ]
    }
   ],
   "source": [
    "# reuse the data\n",
    "print(df)"
   ]
  },
  {
   "cell_type": "code",
   "execution_count": null,
   "metadata": {},
   "outputs": [],
   "source": []
  }
 ],
 "metadata": {
  "kernelspec": {
   "display_name": "base",
   "language": "python",
   "name": "python3"
  },
  "language_info": {
   "codemirror_mode": {
    "name": "ipython",
    "version": 3
   },
   "file_extension": ".py",
   "mimetype": "text/x-python",
   "name": "python",
   "nbconvert_exporter": "python",
   "pygments_lexer": "ipython3",
   "version": "3.12.7"
  }
 },
 "nbformat": 4,
 "nbformat_minor": 2
}
