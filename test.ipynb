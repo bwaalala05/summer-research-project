{
 "cells": [
  {
   "cell_type": "markdown",
   "metadata": {},
   "source": [
    "# Testing `sklearn` and `statsmodel` functions using artificial data\n",
    "\n",
    "1. [Testing how `sklearn` performs with high collinearity](#testing-sklearn-and-statsmodel-functions-using-artificial-data)\n",
    "1. [Testing `StandardScaler`]()\n",
    "1. [Testing ridge regression]()\n"
   ]
  },
  {
   "cell_type": "code",
   "execution_count": 162,
   "metadata": {},
   "outputs": [],
   "source": [
    "# import modules\n",
    "\n",
    "import numpy as np\n",
    "import pandas as pd \n",
    "import matplotlib.pyplot as plt\n",
    "import sklearn.linear_model as skl_lm\n",
    "from sklearn.model_selection import train_test_split\n",
    "from sklearn.preprocessing import StandardScaler\n",
    "from sklearn.linear_model import LinearRegression\n",
    "from sklearn.metrics import mean_squared_error, r2_score\n",
    "\n",
    "# ridge\n",
    "from sklearn.linear_model import RidgeCV"
   ]
  },
  {
   "cell_type": "markdown",
   "metadata": {},
   "source": [
    "---\n",
    "\n",
    "## Testing how `sklearn` performs with high collinearity\n",
    "\n",
    "We generate a dataframe with 3 predictors:\n",
    "$$Y=X_1 +2X_2 + 3X_3,$$\n",
    "\n",
    "where $X_1$ and $X_2$ are strongly correlated with the relationship $X_2=2X_1$.\n",
    "\n",
    "Results: \n",
    "- uses pseudoinverse\n",
    "- doesn't give warning\n",
    "- good fit when predictors are not scaled, expected confounding effect when scaled\n",
    "- \"equal weightage distribution\" are due to scaler, not OLS function"
   ]
  },
  {
   "cell_type": "code",
   "execution_count": 163,
   "metadata": {},
   "outputs": [
    {
     "name": "stdout",
     "output_type": "stream",
     "text": [
      "    col_1  col_2  col_3  col_4\n",
      "0      31    104     42    403\n",
      "1       6     57     78    392\n",
      "2      16     -7     40    133\n",
      "3      69    130     42    536\n",
      "4      44    112     58    475\n",
      "..    ...    ...    ...    ...\n",
      "95     15     77     72    367\n",
      "96     23     53     90    477\n",
      "97     38    101     83    496\n",
      "98     42     39      2    126\n",
      "99     27     77     77    446\n",
      "\n",
      "[100 rows x 4 columns]\n"
     ]
    }
   ],
   "source": [
    "# set parameters as you like to play around \n",
    "beta1=1\n",
    "beta2=2\n",
    "beta3=3\n",
    "correlation=2 # X_2 = 2*X_1\n",
    "\n",
    "# Define the number of rows and columns\n",
    "num_rows = 100\n",
    "num_cols = 4\n",
    "\n",
    "# Define column names (optional, but good practice)\n",
    "column_names = [f'col_{i+1}' for i in range(num_cols)]\n",
    "\n",
    "# Generate random data using NumPy\n",
    "# For random integers: np.random.randint(low, high, size=(rows, cols))\n",
    "# For random floats: np.random.rand(rows, cols) or np.random.uniform(low, high, size=(rows, cols))\n",
    "random_data = np.random.randint(0, 100, size=(num_rows, num_cols)) # Example: random integers between 0 and 99\n",
    "\n",
    "# Create the DataFrame\n",
    "df = pd.DataFrame(random_data, columns=column_names)\n",
    "\n",
    "for i in range(num_rows):\n",
    "    df.iloc[i,1]=correlation*df.iloc[i,0]+ np.random.randint(-50,50)\n",
    "    df.iloc[i,num_cols-1] = beta1*df.iloc[i,0] + beta2*df.iloc[i,1] + beta3*df.iloc[i,2] + np.random.randint(-100,100)\n",
    "\n",
    "# Print the generated DataFrame\n",
    "print(df)"
   ]
  },
  {
   "cell_type": "code",
   "execution_count": 164,
   "metadata": {},
   "outputs": [
    {
     "name": "stdout",
     "output_type": "stream",
     "text": [
      "[ 31.13727192 131.24845276  90.21227197] 350.1625\n"
     ]
    }
   ],
   "source": [
    "X=df.drop(columns=['col_4'])\n",
    "y=df['col_4']\n",
    "\n",
    "X_train, X_test, y_train, y_test = train_test_split(X,y,train_size=0.8,random_state=42)\n",
    "\n",
    "# standardise\n",
    "scaler=StandardScaler()\n",
    "X_train_scaled=scaler.fit_transform(X_train)\n",
    "X_test_scaled=scaler.transform(X_test)\n",
    "\n",
    "# build model\n",
    "model=LinearRegression()\n",
    "model_scaled=model.fit(X_train_scaled,y_train)\n",
    "\n",
    "print(model_scaled.coef_, model_scaled.intercept_)\n"
   ]
  },
  {
   "cell_type": "markdown",
   "metadata": {},
   "source": [
    "Real relationship:\n",
    "\n",
    "$$Y=X_1+2X_2+3X_3$$"
   ]
  },
  {
   "cell_type": "code",
   "execution_count": 165,
   "metadata": {},
   "outputs": [
    {
     "name": "stdout",
     "output_type": "stream",
     "text": [
      "162.38572467833592\n"
     ]
    }
   ],
   "source": [
    "# equally distributed weightage?\n",
    "\n",
    "b1=(model_scaled.coef_[1]+model_scaled.coef_[0])\n",
    "\n",
    "print(b1)"
   ]
  },
  {
   "cell_type": "code",
   "execution_count": 166,
   "metadata": {},
   "outputs": [
    {
     "name": "stdout",
     "output_type": "stream",
     "text": [
      "[ 31.13727192 131.24845276  90.21227197 350.1625    ]\n"
     ]
    }
   ],
   "source": [
    "# pseudoinverse for scaled data\n",
    "\n",
    "pinv_arr=np.ones((80,4))\n",
    "for i in range(X_train_scaled.shape[0]):\n",
    "    for j in range(4):\n",
    "        if j<3:\n",
    "            pinv_arr[i,j]=X_train_scaled[i,j]\n",
    "\n",
    "pinv=np.linalg.pinv(pinv_arr)\n",
    "print(np.matmul(pinv,y_train))"
   ]
  },
  {
   "cell_type": "markdown",
   "metadata": {},
   "source": [
    "### What if we remove the second (collinear) column?\n",
    "\n",
    "Now, there is no collinearity in our model, and we see that the coefficient for the first predictor is the sum of the coefficients of the two correlated variables in the previous model."
   ]
  },
  {
   "cell_type": "code",
   "execution_count": 167,
   "metadata": {},
   "outputs": [
    {
     "name": "stdout",
     "output_type": "stream",
     "text": [
      "[150.65610416 105.25172218] 350.1625\n"
     ]
    }
   ],
   "source": [
    "X_new=X.drop(columns=['col_2'])\n",
    "\n",
    "X_new_train, X_new_test, y_train, y_test = train_test_split(X_new,y,train_size=0.8,random_state=42)\n",
    "\n",
    "# standardise\n",
    "X_new_train_scaled=scaler.fit_transform(X_new_train)\n",
    "X_new_test_scaled=scaler.transform(X_new_test)\n",
    "\n",
    "# build model\n",
    "model=LinearRegression()\n",
    "model_new=model.fit(X_new_train_scaled,y_train)\n",
    "\n",
    "print(model_new.coef_, model_new.intercept_)"
   ]
  },
  {
   "cell_type": "markdown",
   "metadata": {},
   "source": [
    "## Testing StandardScaler\n",
    "\n",
    "### 1. What if we don't scale the regressors?"
   ]
  },
  {
   "cell_type": "code",
   "execution_count": 168,
   "metadata": {},
   "outputs": [
    {
     "name": "stdout",
     "output_type": "stream",
     "text": [
      "[1.05374646 1.95255523 2.89790861] 10.848553568252782\n"
     ]
    }
   ],
   "source": [
    "# model fit to unscaled data\n",
    "\n",
    "model_unscaled=LinearRegression()\n",
    "model_unscaled.fit(X_train,y_train)\n",
    "print(model_unscaled.coef_, model_unscaled.intercept_)\n",
    "\n",
    "# real relationship: Y=X_1+2X_2+3X_3"
   ]
  },
  {
   "cell_type": "code",
   "execution_count": 169,
   "metadata": {},
   "outputs": [
    {
     "name": "stdout",
     "output_type": "stream",
     "text": [
      "[ 1.05374646  1.95255523  2.89790861 10.84855357]\n"
     ]
    }
   ],
   "source": [
    "# using pseudoinverse for unscaled data matrix\n",
    "\n",
    "# add one column of ones for constant term\n",
    "pinv_arr=np.ones((80,4))\n",
    "for i in range(80):\n",
    "    for j in range(4):\n",
    "        if j<3:\n",
    "            pinv_arr[i,j]=X_train.iloc[i,j]\n",
    "\n",
    "pinv2=np.linalg.pinv(pinv_arr)\n",
    "print(np.matmul(pinv2,y_train))"
   ]
  },
  {
   "cell_type": "code",
   "execution_count": 170,
   "metadata": {},
   "outputs": [
    {
     "data": {
      "text/plain": [
       "<bound method NDFrame.head of     col_1  col_2  col_3\n",
       "55     50     74      0\n",
       "88     34     54      9\n",
       "26     76    119     52\n",
       "42     62    143     43\n",
       "69     44    121     24\n",
       "..    ...    ...    ...\n",
       "60     86    162     62\n",
       "71      4     41     95\n",
       "14     90    213      1\n",
       "92     98    208      2\n",
       "51     13      0      1\n",
       "\n",
       "[80 rows x 3 columns]>"
      ]
     },
     "execution_count": 170,
     "metadata": {},
     "output_type": "execute_result"
    }
   ],
   "source": [
    "X_train.head"
   ]
  },
  {
   "cell_type": "code",
   "execution_count": 171,
   "metadata": {},
   "outputs": [
    {
     "data": {
      "text/plain": [
       "array([[ 0.23689375, -0.16104122, -1.42305862],\n",
       "       [-0.30457768, -0.45857695, -1.13394965],\n",
       "       [ 1.11678484,  0.50841418,  0.24734879],\n",
       "       [ 0.64299733,  0.86545706, -0.04176019],\n",
       "       [ 0.03384196,  0.53816776, -0.65210135],\n",
       "       [-0.81220716, -1.41069129, -1.3909354 ],\n",
       "       [ 1.82746611,  2.24899822,  0.82556674],\n",
       "       [-0.6768393 , -0.47345373,  1.46803113],\n",
       "       [-1.45520449, -1.21729307, -0.71634779],\n",
       "       [ 0.43994554,  0.70181241,  1.27529181],\n",
       "       [ 0.40610358,  0.43403025, -0.74847101],\n",
       "       [ 0.98141698,  0.56792133, -0.33086916],\n",
       "       [-1.01525895, -1.61896631,  0.11885591],\n",
       "       [ 1.2521527 ,  1.57954282,  1.72501688],\n",
       "       [-1.28599467, -1.291677  , -0.71634779],\n",
       "       [ 1.75978218,  0.88033385,  1.56440079],\n",
       "       [-0.10152589, -0.66685196,  0.40796489],\n",
       "       [ 0.03384196, -0.6222216 ,  0.31159523],\n",
       "       [-0.91373305, -1.03877163, -1.42305862],\n",
       "       [ 0.91373305,  0.95471778,  0.05460947],\n",
       "       [-0.40610358, -0.60734481, -0.10600662],\n",
       "       [-1.04910091, -1.17266271, -0.97333355],\n",
       "       [ 0.20305179, -0.35443944, -0.90908711],\n",
       "       [-0.94757502, -0.11641086,  0.88981318],\n",
       "       [ 0.16920982,  0.67205884,  0.63282742],\n",
       "       [-0.74452323, -0.54783767, -0.81271745],\n",
       "       [ 1.86130807,  1.38614459, -0.0738834 ],\n",
       "       [-0.30457768, -0.10153407,  0.53645776],\n",
       "       [-1.01525895, -0.74123589,  0.31159523],\n",
       "       [-0.40610358, -0.04202692, -0.2344995 ],\n",
       "       [ 0.43994554,  0.44890704,  0.47221133],\n",
       "       [ 0.87989109,  0.67205884, -0.0738834 ],\n",
       "       [-1.45520449, -1.24704664,  1.30741503],\n",
       "       [ 0.87989109,  1.31176066,  1.33953825],\n",
       "       [ 0.87989109,  0.07698737,  0.05460947],\n",
       "       [-0.64299733, -0.13128764,  1.21104537],\n",
       "       [-0.91373305, -0.78586625, -0.00963697],\n",
       "       [ 1.82746611,  2.07047678, -0.97333355],\n",
       "       [ 1.38752056,  1.02910172, -1.13394965],\n",
       "       [ 0.84604912,  0.61255169,  1.43590791],\n",
       "       [ 0.54147144,  0.64230526, -0.97333355],\n",
       "       [-0.54147144, -0.11641086,  1.05042928],\n",
       "       [-1.08294288, -1.67847345,  0.27947201],\n",
       "       [-0.98141698, -0.80074304,  0.05460947],\n",
       "       [-0.81220716, -0.81561983,  1.33953825],\n",
       "       [ 0.5753134 ,  0.62742848, -1.3909354 ],\n",
       "       [ 0.60915537,  1.07373208, -0.65210135],\n",
       "       [-0.91373305, -0.59246803, -1.26244252],\n",
       "       [-0.37226161, -0.04202692, -0.2344995 ],\n",
       "       [-0.16920982,  0.24063202,  1.24316859],\n",
       "       [ 0.54147144,  0.40427668, -0.68422457],\n",
       "       [-1.04910091, -1.291677  ,  0.7613203 ],\n",
       "       [-0.16920982,  0.32989274, -0.36299238],\n",
       "       [ 1.01525895,  0.40427668, -0.04176019],\n",
       "       [-0.03384196, -0.68172875, -1.35881218],\n",
       "       [ 0.03384196, -0.66685196, -1.35881218],\n",
       "       [ 1.31983663,  1.0439785 ,  1.72501688],\n",
       "       [ 1.59057235,  1.63904997,  1.66077044],\n",
       "       [-1.38752056, -0.99414127,  0.88981318],\n",
       "       [-0.71068126, -1.291677  , -1.26244252],\n",
       "       [ 0.5753134 ,  1.01422493,  0.85768996],\n",
       "       [-0.98141698, -1.00901805, -0.87696389],\n",
       "       [-0.77836519, -0.45857695,  1.7571401 ],\n",
       "       [-0.5753134 , -0.3990698 , -0.61997813],\n",
       "       [-1.2521527 , -0.41394659,  1.08255249],\n",
       "       [ 1.18446877,  1.11836244, -0.65210135],\n",
       "       [ 0.84604912,  0.77619634, -1.06970321],\n",
       "       [-0.91373305, -1.36606093, -0.13812984],\n",
       "       [ 1.75978218,  2.23412143,  0.31159523],\n",
       "       [-1.15062681, -0.74123589,  1.37166147],\n",
       "       [ 0.60915537,  0.19600166,  1.56440079],\n",
       "       [-0.74452323, -0.99414127, -1.19819608],\n",
       "       [-1.15062681, -0.47345373, -0.36299238],\n",
       "       [-1.28599467, -1.17266271, -1.26244252],\n",
       "       [-1.28599467, -1.47019844, -0.5557317 ],\n",
       "       [ 1.45520449,  1.14811601,  0.56858098],\n",
       "       [-1.31983663, -0.65197517,  1.62864722],\n",
       "       [ 1.59057235,  1.90683213, -1.3909354 ],\n",
       "       [ 1.86130807,  1.83244819, -1.35881218],\n",
       "       [-1.01525895, -1.26192343, -1.3909354 ]])"
      ]
     },
     "execution_count": 171,
     "metadata": {},
     "output_type": "execute_result"
    }
   ],
   "source": [
    "X_train_scaled"
   ]
  },
  {
   "cell_type": "markdown",
   "metadata": {},
   "source": [
    "Let's compare $\\mathbf{X}$ before and after scaling "
   ]
  },
  {
   "cell_type": "code",
   "execution_count": 172,
   "metadata": {},
   "outputs": [
    {
     "name": "stdout",
     "output_type": "stream",
     "text": [
      "43.0 873.15\n"
     ]
    },
    {
     "name": "stderr",
     "output_type": "stream",
     "text": [
      "/var/folders/n1/xb4gyj5530g0114s2tcl_l_c0000gn/T/ipykernel_10519/654684410.py:7: FutureWarning: Setting an item of incompatible dtype is deprecated and will raise in a future error of pandas. Value '55    0.236894\n",
      "88   -0.304578\n",
      "26    1.116785\n",
      "42    0.642997\n",
      "69    0.033842\n",
      "        ...   \n",
      "60    1.455204\n",
      "71   -1.319837\n",
      "14    1.590572\n",
      "92    1.861308\n",
      "51   -1.015259\n",
      "Name: col_1, Length: 80, dtype: float64' has dtype incompatible with int64, please explicitly cast to a compatible dtype first.\n",
      "  X_new.iloc[:,0]=(X_train.iloc[:,0] - mean1 )/sd1\n"
     ]
    },
    {
     "data": {
      "text/plain": [
       "55    0.236894\n",
       "88   -0.304578\n",
       "26    1.116785\n",
       "42    0.642997\n",
       "69    0.033842\n",
       "        ...   \n",
       "60    1.455204\n",
       "71   -1.319837\n",
       "14    1.590572\n",
       "92    1.861308\n",
       "51   -1.015259\n",
       "Name: col_1, Length: 80, dtype: float64"
      ]
     },
     "execution_count": 172,
     "metadata": {},
     "output_type": "execute_result"
    }
   ],
   "source": [
    "# trying to standardise a column manually``\n",
    "\n",
    "X_new=X_train\n",
    "mean1=np.mean(X_train.iloc[:,0])\n",
    "var1=np.var(X_train.iloc[:,0])\n",
    "sd1=var1**0.5\n",
    "X_new.iloc[:,0]=(X_train.iloc[:,0] - mean1 )/sd1\n",
    "print(mean1,var1)\n",
    "X_new.iloc[:,0]"
   ]
  },
  {
   "cell_type": "markdown",
   "metadata": {},
   "source": [
    "### 2. Testing the scaler with non-collinear data\n",
    "\n",
    "Results: everything normal and consistent. The comparison between output of scaled and unscaled model is as expected."
   ]
  },
  {
   "cell_type": "code",
   "execution_count": 173,
   "metadata": {},
   "outputs": [
    {
     "name": "stdout",
     "output_type": "stream",
     "text": [
      "    col_1  col_2  col_3  col_4\n",
      "0      78     51     64    364\n",
      "1      90     61     36    317\n",
      "2      18     28     30    159\n",
      "3      94     60     25    294\n",
      "4      82     99     78    509\n",
      "..    ...    ...    ...    ...\n",
      "95     70     57     81    431\n",
      "96     10     83     25    245\n",
      "97     98      9     37    225\n",
      "98     59     73     99    501\n",
      "99     24     96     57    391\n",
      "\n",
      "[100 rows x 4 columns]\n"
     ]
    }
   ],
   "source": [
    "# Define the number of rows and columns\n",
    "num_rows = 100\n",
    "num_cols = 4\n",
    "\n",
    "# Define column names (optional, but good practice)\n",
    "column_names = [f'col_{i+1}' for i in range(num_cols)]\n",
    "\n",
    "# Generate random data using NumPy\n",
    "# For random integers: np.random.randint(low, high, size=(rows, cols))\n",
    "# For random floats: np.random.rand(rows, cols) or np.random.uniform(low, high, size=(rows, cols))\n",
    "\n",
    "random_data = np.random.randint(0, 100, size=(num_rows, num_cols)) # Example: random integers between 0 and 99\n",
    "\n",
    "# Create the DataFrame\n",
    "df = pd.DataFrame(random_data, columns=column_names)\n",
    "\n",
    "for i in range(num_rows):\n",
    "    df.iloc[i,num_cols-1]=df.iloc[i,0]+2*df.iloc[i,1]+3*df.iloc[i,2]+np.random.randint(-10,10)\n",
    "\n",
    "# Print the generated DataFrame\n",
    "print(df)"
   ]
  },
  {
   "cell_type": "code",
   "execution_count": 174,
   "metadata": {},
   "outputs": [],
   "source": [
    "X=df.drop(columns=['col_4'])\n",
    "y=df['col_4']\n",
    "\n",
    "X_train, X_test, y_train, y_test = train_test_split(X,y,train_size=0.8,random_state=42)\n",
    "\n",
    "# standardise\n",
    "scaler=StandardScaler()\n",
    "X_train_scaled=scaler.fit_transform(X_train)\n",
    "X_test_scaled=scaler.transform(X_test)\n",
    "\n",
    "# correct\n",
    "model1=LinearRegression()\n",
    "model2=LinearRegression()\n",
    "model_scaled=model1.fit(X_train_scaled,y_train)\n",
    "model_unscaled=model2.fit(X_train,y_train)\n",
    "\n",
    "# wrong\n",
    "# model=LinearRegression()\n",
    "# model_scaled=model.fit(X_train_scaled,y_train)\n",
    "# model_unscaled=model.fit(X_train,y_train)\n"
   ]
  },
  {
   "cell_type": "code",
   "execution_count": 175,
   "metadata": {},
   "outputs": [
    {
     "data": {
      "text/html": [
       "<div>\n",
       "<style scoped>\n",
       "    .dataframe tbody tr th:only-of-type {\n",
       "        vertical-align: middle;\n",
       "    }\n",
       "\n",
       "    .dataframe tbody tr th {\n",
       "        vertical-align: top;\n",
       "    }\n",
       "\n",
       "    .dataframe thead th {\n",
       "        text-align: right;\n",
       "    }\n",
       "</style>\n",
       "<table border=\"1\" class=\"dataframe\">\n",
       "  <thead>\n",
       "    <tr style=\"text-align: right;\">\n",
       "      <th></th>\n",
       "      <th>col_1</th>\n",
       "      <th>col_2</th>\n",
       "      <th>col_3</th>\n",
       "      <th>col_4</th>\n",
       "    </tr>\n",
       "  </thead>\n",
       "  <tbody>\n",
       "    <tr>\n",
       "      <th>0</th>\n",
       "      <td>78</td>\n",
       "      <td>51</td>\n",
       "      <td>64</td>\n",
       "      <td>364</td>\n",
       "    </tr>\n",
       "    <tr>\n",
       "      <th>1</th>\n",
       "      <td>90</td>\n",
       "      <td>61</td>\n",
       "      <td>36</td>\n",
       "      <td>317</td>\n",
       "    </tr>\n",
       "    <tr>\n",
       "      <th>2</th>\n",
       "      <td>18</td>\n",
       "      <td>28</td>\n",
       "      <td>30</td>\n",
       "      <td>159</td>\n",
       "    </tr>\n",
       "    <tr>\n",
       "      <th>3</th>\n",
       "      <td>94</td>\n",
       "      <td>60</td>\n",
       "      <td>25</td>\n",
       "      <td>294</td>\n",
       "    </tr>\n",
       "    <tr>\n",
       "      <th>4</th>\n",
       "      <td>82</td>\n",
       "      <td>99</td>\n",
       "      <td>78</td>\n",
       "      <td>509</td>\n",
       "    </tr>\n",
       "    <tr>\n",
       "      <th>...</th>\n",
       "      <td>...</td>\n",
       "      <td>...</td>\n",
       "      <td>...</td>\n",
       "      <td>...</td>\n",
       "    </tr>\n",
       "    <tr>\n",
       "      <th>95</th>\n",
       "      <td>70</td>\n",
       "      <td>57</td>\n",
       "      <td>81</td>\n",
       "      <td>431</td>\n",
       "    </tr>\n",
       "    <tr>\n",
       "      <th>96</th>\n",
       "      <td>10</td>\n",
       "      <td>83</td>\n",
       "      <td>25</td>\n",
       "      <td>245</td>\n",
       "    </tr>\n",
       "    <tr>\n",
       "      <th>97</th>\n",
       "      <td>98</td>\n",
       "      <td>9</td>\n",
       "      <td>37</td>\n",
       "      <td>225</td>\n",
       "    </tr>\n",
       "    <tr>\n",
       "      <th>98</th>\n",
       "      <td>59</td>\n",
       "      <td>73</td>\n",
       "      <td>99</td>\n",
       "      <td>501</td>\n",
       "    </tr>\n",
       "    <tr>\n",
       "      <th>99</th>\n",
       "      <td>24</td>\n",
       "      <td>96</td>\n",
       "      <td>57</td>\n",
       "      <td>391</td>\n",
       "    </tr>\n",
       "  </tbody>\n",
       "</table>\n",
       "<p>100 rows × 4 columns</p>\n",
       "</div>"
      ],
      "text/plain": [
       "    col_1  col_2  col_3  col_4\n",
       "0      78     51     64    364\n",
       "1      90     61     36    317\n",
       "2      18     28     30    159\n",
       "3      94     60     25    294\n",
       "4      82     99     78    509\n",
       "..    ...    ...    ...    ...\n",
       "95     70     57     81    431\n",
       "96     10     83     25    245\n",
       "97     98      9     37    225\n",
       "98     59     73     99    501\n",
       "99     24     96     57    391\n",
       "\n",
       "[100 rows x 4 columns]"
      ]
     },
     "execution_count": 175,
     "metadata": {},
     "output_type": "execute_result"
    }
   ],
   "source": [
    "df"
   ]
  },
  {
   "cell_type": "code",
   "execution_count": 176,
   "metadata": {},
   "outputs": [
    {
     "data": {
      "text/plain": [
       "array([[ 1.24070198, -0.66375986, -1.58582921],\n",
       "       [-0.22144766, -1.42708371, -1.62034127],\n",
       "       [-1.37756599,  0.79651184,  0.31233415],\n",
       "       [-1.03753119,  0.26550395,  0.83001507],\n",
       "       [ 0.79865674, -0.73013585,  0.13977385],\n",
       "       [ 0.45862194,  0.4978199 , -1.10266035],\n",
       "       [-0.90151727, -0.9624518 ,  0.58843064],\n",
       "       [-1.44557295,  1.09520377, -0.75753974],\n",
       "       [ 0.22059758, -1.32751973, -0.27437089],\n",
       "       [ 1.41071938, -1.42708371, -0.82656387],\n",
       "       [ 1.10468806, -0.26550395, -1.58582921],\n",
       "       [-0.79950683, -0.63057187,  0.72647889],\n",
       "       [-0.35746158,  0.66375986,  0.96806332],\n",
       "       [ 1.30870894,  0.36506792,  1.79635278],\n",
       "       [ 0.45862194, -1.09520377,  0.76099095],\n",
       "       [ 0.0165767 , -1.42708371,  1.31318393],\n",
       "       [ 0.76465326,  0.39825592, -0.55046738],\n",
       "       [-0.52747899,  1.55983568,  0.34684621],\n",
       "       [ 0.1865941 ,  0.79651184,  0.83001507],\n",
       "       [-1.00352771, -1.29433173,  0.86452713],\n",
       "       [-1.17354511,  0.39825592,  1.24415981],\n",
       "       [ 1.41071938, -0.13275197,  1.31318393],\n",
       "       [-0.83351031, -0.82969983, -0.10181058],\n",
       "       [ 0.59463586,  0.23231595,  1.17513568],\n",
       "       [ 0.0165767 ,  0.9624518 , -1.20619654],\n",
       "       [-0.05143026,  1.29433173,  0.93355125],\n",
       "       [ 0.3566115 ,  0.99563979, -1.13717242],\n",
       "       [-0.18744418, -0.4978199 , -0.6194915 ],\n",
       "       [-0.76550335,  0.23231595, -0.6194915 ],\n",
       "       [-0.62948943, -0.9624518 , -0.99912417],\n",
       "       [-1.54758339, -0.23231595,  1.72732866],\n",
       "       [ 1.41071938,  0.33187993, -0.75753974],\n",
       "       [ 1.58073678,  0.13275197,  0.10526179],\n",
       "       [ 1.51272982, -1.16157976, -0.51595531],\n",
       "       [ 1.17269502, -0.79651184, -1.13717242],\n",
       "       [-0.59548595,  0.86288782, -0.10181058],\n",
       "       [-0.86751379,  0.33187993,  1.65830454],\n",
       "       [ 0.79865674, -0.73013585, -1.27522066],\n",
       "       [ 1.17269502, -1.55983568,  0.79550301],\n",
       "       [-0.08543374, -1.06201578,  0.65745477],\n",
       "       [ 0.32260802, -1.26114374, -0.65400356],\n",
       "       [-0.96952423,  1.52664769,  0.34684621],\n",
       "       [ 0.1865941 ,  0.33187993, -1.2407086 ],\n",
       "       [-0.86751379, -1.36070772, -1.30973272],\n",
       "       [-1.58158687,  0.4646319 , -0.37790707],\n",
       "       [ 1.07068458,  0.39825592,  0.69196683],\n",
       "       [ 0.5266289 , -0.4646319 ,  1.45123217],\n",
       "       [-0.08543374, -0.19912796, -1.51680509],\n",
       "       [ 1.30870894, -1.22795575,  1.00257538],\n",
       "       [ 1.5467333 , -1.36070772, -0.34339501],\n",
       "       [-0.45947202, -1.4602717 , -0.99912417],\n",
       "       [ 1.44472286,  0.99563979, -0.10181058],\n",
       "       [-1.61559035, -0.76332384, -0.89558799],\n",
       "       [-0.86751379,  0.33187993, -1.58582921],\n",
       "       [ 0.22059758,  0.76332384,  1.79635278],\n",
       "       [-1.78560775,  1.4602717 , -0.7920518 ],\n",
       "       [ 1.17269502,  0.9624518 ,  0.10526179],\n",
       "       [-0.49347551,  1.49345969,  0.03623766],\n",
       "       [-0.3234581 ,  1.32751973, -0.30888295],\n",
       "       [-0.59548595,  1.29433173, -0.58497944],\n",
       "       [-0.90151727,  1.42708371,  0.6229427 ],\n",
       "       [-1.58158687, -0.99563979,  1.27867187],\n",
       "       [-1.20754859, -0.03318799,  1.45123217],\n",
       "       [ 0.08458366,  1.62621166,  1.31318393],\n",
       "       [ 1.27470546,  0.36506792, -0.37790707],\n",
       "       [ 0.90066718,  1.12839177, -0.03278646],\n",
       "       [ 0.5266289 , -1.52664769, -1.17168448],\n",
       "       [-1.17354511, -0.73013585, -0.58497944],\n",
       "       [-0.3234581 , -1.32751973, -0.44693119],\n",
       "       [ 0.05058018,  0.69694786, -1.20619654],\n",
       "       [ 1.10468806, -0.39825592, -0.1708347 ],\n",
       "       [ 0.93467066, -1.39389571, -0.23985883],\n",
       "       [-1.30955903,  1.49345969, -0.72302768],\n",
       "       [ 1.3767159 ,  1.36070772,  1.00257538],\n",
       "       [-1.30955903,  0.03318799, -0.10181058],\n",
       "       [-0.08543374,  0.36506792, -1.62034127],\n",
       "       [ 1.3767159 ,  0.99563979,  1.76184072],\n",
       "       [-1.68359731, -1.59302367,  1.76184072],\n",
       "       [-1.03753119,  0.63057187, -0.34339501],\n",
       "       [ 1.24070198,  1.62621166,  0.79550301]])"
      ]
     },
     "execution_count": 176,
     "metadata": {},
     "output_type": "execute_result"
    }
   ],
   "source": [
    "X_train_scaled"
   ]
  },
  {
   "cell_type": "code",
   "execution_count": 177,
   "metadata": {},
   "outputs": [
    {
     "name": "stdout",
     "output_type": "stream",
     "text": [
      "Scaled:  [29.80786061 60.00086265 88.17268413] 293.1625\n",
      "Unscaled:  [1.013571   1.99130822 3.04302107] -2.4978970232043594\n"
     ]
    }
   ],
   "source": [
    "print(\"Scaled: \",model_scaled.coef_, model_scaled.intercept_)\n",
    "print(\"Unscaled: \",model_unscaled.coef_, model_unscaled.intercept_)"
   ]
  },
  {
   "cell_type": "markdown",
   "metadata": {},
   "source": [
    "## Testing ridge regression\n",
    "\n",
    "What I want to know: whether if it just gives a model that is useful for predictions OR it is actually able to capture the true underlying relationship. \n",
    "\n",
    "We reuse the same generated dataframe from last section, with relationship\n",
    "$$Y=X_1+2X_2+3X_3$$\n",
    "where $X_1$ and $X_2$ are correlated with $X_2=2X_1$."
   ]
  },
  {
   "cell_type": "code",
   "execution_count": 178,
   "metadata": {},
   "outputs": [
    {
     "name": "stdout",
     "output_type": "stream",
     "text": [
      "    col_1  col_2  col_3  col_4\n",
      "0      78     51     64    364\n",
      "1      90     61     36    317\n",
      "2      18     28     30    159\n",
      "3      94     60     25    294\n",
      "4      82     99     78    509\n",
      "..    ...    ...    ...    ...\n",
      "95     70     57     81    431\n",
      "96     10     83     25    245\n",
      "97     98      9     37    225\n",
      "98     59     73     99    501\n",
      "99     24     96     57    391\n",
      "\n",
      "[100 rows x 4 columns]\n"
     ]
    }
   ],
   "source": [
    "# reuse the data\n",
    "print(df)\n"
   ]
  },
  {
   "cell_type": "code",
   "execution_count": 179,
   "metadata": {},
   "outputs": [
    {
     "name": "stdout",
     "output_type": "stream",
     "text": [
      "Model score (R^2) for OLS:  0.9964168459578655\n",
      "Model score (R^2) for ridge:  0.9964168867142018\n"
     ]
    }
   ],
   "source": [
    "X=df.iloc[:,0:3]\n",
    "y=df.iloc[:,3]\n",
    "\n",
    "X_train, X_test, y_train, y_test=train_test_split(X,y,train_size=0.8, random_state=42)\n",
    "\n",
    "scaler=StandardScaler()\n",
    "X_train_scaled=scaler.fit_transform(X_train)\n",
    "X_test_scaled=scaler.transform(X_test)\n",
    "\n",
    "ols=LinearRegression().fit(X_train_scaled,y_train)\n",
    "ridge_cv=RidgeCV(alphas=[0.0001,0.001,0.01,0.1,1.0,5.0,10.0],cv=10) #alpha = regularisation parameter\n",
    "ridge_cv.fit(X_train_scaled, y_train)\n",
    "\n",
    "# make predictions\n",
    "y_pred_ols=ols.predict(X_test_scaled)\n",
    "y_pred_ridge=ridge_cv.predict(X_test_scaled)\n",
    "print(\"Model score (R^2) for OLS: \", r2_score(y_test,y_pred_ols))\n",
    "print(\"Model score (R^2) for ridge: \", r2_score(y_test,y_pred_ridge))\n",
    "\n"
   ]
  },
  {
   "cell_type": "code",
   "execution_count": 180,
   "metadata": {},
   "outputs": [
    {
     "name": "stdout",
     "output_type": "stream",
     "text": [
      "Cross-validated R^2 scores (OLS): [0.99709457 0.99751358 0.99845694 0.99296522 0.99764655]\n",
      "Mean CV R^2 (OLS): 0.9967353730549586\n"
     ]
    }
   ],
   "source": [
    "from sklearn.model_selection import cross_val_score, KFold\n",
    "\n",
    "# define cross-validation strategy\n",
    "cv = KFold(n_splits=5, shuffle=True, random_state=42)\n",
    "\n",
    "# compute cross-validated R^2 scores\n",
    "cv_scores = cross_val_score(ols, X_train_scaled, y_train, cv=cv, scoring='r2')\n",
    "\n",
    "print(\"Cross-validated R^2 scores (OLS):\", cv_scores)\n",
    "print(\"Mean CV R^2 (OLS):\", np.mean(cv_scores))"
   ]
  },
  {
   "cell_type": "code",
   "execution_count": 181,
   "metadata": {},
   "outputs": [
    {
     "data": {
      "text/plain": [
       "array([29.80786061, 60.00086265, 88.17268413])"
      ]
     },
     "execution_count": 181,
     "metadata": {},
     "output_type": "execute_result"
    }
   ],
   "source": [
    "ols.coef_"
   ]
  },
  {
   "cell_type": "code",
   "execution_count": 182,
   "metadata": {},
   "outputs": [
    {
     "data": {
      "text/plain": [
       "array([29.80781294, 60.00079484, 88.17257945])"
      ]
     },
     "execution_count": 182,
     "metadata": {},
     "output_type": "execute_result"
    }
   ],
   "source": [
    "ridge_cv.coef_"
   ]
  },
  {
   "cell_type": "code",
   "execution_count": 183,
   "metadata": {},
   "outputs": [
    {
     "data": {
      "text/plain": [
       "0.0001"
      ]
     },
     "execution_count": 183,
     "metadata": {},
     "output_type": "execute_result"
    }
   ],
   "source": [
    "ridge_cv.alpha_"
   ]
  },
  {
   "cell_type": "markdown",
   "metadata": {},
   "source": [
    "## Testing LASSO \n",
    "\n",
    "(same as ridge)\n",
    "What I want to know: whether if it just gives a model that is useful for predictions OR it is actually able to capture the true underlying relationship. \n",
    "\n",
    "We reuse the same generated dataframe from previous sections, with relationship\n",
    "$$Y=X_1+2X_2+3X_3$$\n",
    "where $X_1$ and $X_2$ are correlated with $X_2=2X_1$."
   ]
  },
  {
   "cell_type": "code",
   "execution_count": null,
   "metadata": {},
   "outputs": [],
   "source": []
  }
 ],
 "metadata": {
  "kernelspec": {
   "display_name": "base",
   "language": "python",
   "name": "python3"
  },
  "language_info": {
   "codemirror_mode": {
    "name": "ipython",
    "version": 3
   },
   "file_extension": ".py",
   "mimetype": "text/x-python",
   "name": "python",
   "nbconvert_exporter": "python",
   "pygments_lexer": "ipython3",
   "version": "3.12.7"
  }
 },
 "nbformat": 4,
 "nbformat_minor": 2
}
