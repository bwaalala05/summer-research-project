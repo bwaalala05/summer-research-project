{
 "cells": [
  {
   "cell_type": "markdown",
   "metadata": {},
   "source": [
    "# Testing `sklearn` and `statsmodel` functions using artificial data\n",
    "\n",
    "1. [Testing how `sklearn` performs with high collinearity](#testing-sklearn-and-statsmodel-functions-using-artificial-data)\n",
    "1. [Testing `StandardScaler`](#testing-standardscaler)\n",
    "1. [Testing ridge regression](#testing-ridge-regression)\n",
    "1. [Testing LASSO](#testing-lasso)\n"
   ]
  },
  {
   "cell_type": "code",
   "execution_count": 244,
   "metadata": {},
   "outputs": [],
   "source": [
    "# import modules\n",
    "\n",
    "import numpy as np\n",
    "import pandas as pd \n",
    "import matplotlib.pyplot as plt\n",
    "import sklearn.linear_model as skl_lm\n",
    "from sklearn.model_selection import train_test_split\n",
    "from sklearn.preprocessing import StandardScaler\n",
    "from sklearn.linear_model import LinearRegression\n",
    "from sklearn.metrics import mean_squared_error, r2_score\n",
    "\n",
    "# ridge and lasso\n",
    "from sklearn.linear_model import RidgeCV\n",
    "from sklearn.linear_model import LassoCV"
   ]
  },
  {
   "cell_type": "markdown",
   "metadata": {},
   "source": [
    "---\n",
    "\n",
    "## Testing how `sklearn` performs with high collinearity\n",
    "\n",
    "We generate a dataframe with 3 predictors:\n",
    "$$Y=X_1 +2X_2 + 3X_3,$$\n",
    "\n",
    "where $X_1$ and $X_2$ are strongly correlated with the relationship $X_2=2X_1$.\n",
    "\n",
    "Results: \n",
    "- uses pseudoinverse\n",
    "- doesn't give warning\n",
    "- good fit when predictors are not scaled, expected confounding effect when scaled\n",
    "- \"equal weightage distribution\" are due to scaler, not OLS function"
   ]
  },
  {
   "cell_type": "code",
   "execution_count": 245,
   "metadata": {},
   "outputs": [
    {
     "name": "stdout",
     "output_type": "stream",
     "text": [
      "    col_1  col_2  col_3  col_4\n",
      "0       3     50     73    373\n",
      "1      54    133     97    553\n",
      "2      76    241      0    463\n",
      "3      47    132     75    590\n",
      "4      35    149     24    381\n",
      "..    ...    ...    ...    ...\n",
      "95     97    306     99    959\n",
      "96     54    189     81    672\n",
      "97     83    217     24    546\n",
      "98     72    218     47    688\n",
      "99      6     32     48    282\n",
      "\n",
      "[100 rows x 4 columns]\n"
     ]
    }
   ],
   "source": [
    "# set parameters as you like to play around \n",
    "beta1=1\n",
    "beta2=2\n",
    "beta3=3\n",
    "correlation=3 # X_2 = 2*X_1\n",
    "\n",
    "# Define the number of rows and columns\n",
    "num_rows = 100\n",
    "num_cols = 4\n",
    "\n",
    "# Define column names (optional, but good practice)\n",
    "column_names = [f'col_{i+1}' for i in range(num_cols)]\n",
    "\n",
    "# Generate random data using NumPy\n",
    "# For random integers: np.random.randint(low, high, size=(rows, cols))\n",
    "# For random floats: np.random.rand(rows, cols) or np.random.uniform(low, high, size=(rows, cols))\n",
    "random_data = np.random.randint(0, 100, size=(num_rows, num_cols)) # Example: random integers between 0 and 99\n",
    "\n",
    "# Create the DataFrame\n",
    "df = pd.DataFrame(random_data, columns=column_names)\n",
    "\n",
    "for i in range(num_rows):\n",
    "    df.iloc[i,1]=correlation*df.iloc[i,0]+ np.random.randint(-50,50)\n",
    "    df.iloc[i,num_cols-1] = beta1*df.iloc[i,0] + beta2*df.iloc[i,1] + beta3*df.iloc[i,2] + np.random.randint(-100,100)\n",
    "\n",
    "# Print the generated DataFrame\n",
    "print(df)"
   ]
  },
  {
   "cell_type": "code",
   "execution_count": 246,
   "metadata": {},
   "outputs": [
    {
     "name": "stdout",
     "output_type": "stream",
     "text": [
      "[ 10.45822229 201.47076933  80.58962345] 504.3125\n"
     ]
    }
   ],
   "source": [
    "X=df.drop(columns=['col_4'])\n",
    "y=df['col_4']\n",
    "\n",
    "X_train, X_test, y_train, y_test = train_test_split(X,y,train_size=0.8,random_state=42)\n",
    "\n",
    "# standardise\n",
    "scaler=StandardScaler()\n",
    "X_train_scaled=scaler.fit_transform(X_train)\n",
    "X_test_scaled=scaler.transform(X_test)\n",
    "\n",
    "# build model\n",
    "model=LinearRegression()\n",
    "model_scaled=model.fit(X_train_scaled,y_train)\n",
    "\n",
    "# make predictions\n",
    "y_pred1=model.predict(X_test_scaled)\n",
    "\n",
    "print(model_scaled.coef_, model_scaled.intercept_)\n"
   ]
  },
  {
   "cell_type": "markdown",
   "metadata": {},
   "source": [
    "Real relationship:\n",
    "\n",
    "$$Y=X_1+2X_2+3X_3$$"
   ]
  },
  {
   "cell_type": "code",
   "execution_count": 247,
   "metadata": {},
   "outputs": [
    {
     "name": "stdout",
     "output_type": "stream",
     "text": [
      "211.92899162592866\n"
     ]
    }
   ],
   "source": [
    "# equally distributed weightage?\n",
    "\n",
    "b1=(model_scaled.coef_[1]+model_scaled.coef_[0])\n",
    "\n",
    "print(b1)"
   ]
  },
  {
   "cell_type": "code",
   "execution_count": 248,
   "metadata": {},
   "outputs": [
    {
     "name": "stdout",
     "output_type": "stream",
     "text": [
      "[ 10.45822229 201.47076933  80.58962345 504.3125    ]\n"
     ]
    }
   ],
   "source": [
    "# pseudoinverse for scaled data\n",
    "\n",
    "pinv_arr=np.ones((80,4))\n",
    "for i in range(X_train_scaled.shape[0]):\n",
    "    for j in range(4):\n",
    "        if j<3:\n",
    "            pinv_arr[i,j]=X_train_scaled[i,j]\n",
    "\n",
    "pinv=np.linalg.pinv(pinv_arr)\n",
    "print(np.matmul(pinv,y_train))"
   ]
  },
  {
   "cell_type": "markdown",
   "metadata": {},
   "source": [
    "### What if we remove the second (collinear) column?\n",
    "\n",
    "Now, there is no collinearity in our model, and we see that the coefficient for the first predictor is the sum of the coefficients of the two correlated variables in the previous model."
   ]
  },
  {
   "cell_type": "code",
   "execution_count": 249,
   "metadata": {},
   "outputs": [
    {
     "name": "stdout",
     "output_type": "stream",
     "text": [
      "[200.95609715  85.47910139] 504.3125\n"
     ]
    }
   ],
   "source": [
    "X_new=X.drop(columns=['col_2'])\n",
    "\n",
    "X_new_train, X_new_test, y_train, y_test = train_test_split(X_new,y,train_size=0.8,random_state=42)\n",
    "\n",
    "# standardise\n",
    "X_new_train_scaled=scaler.fit_transform(X_new_train)\n",
    "X_new_test_scaled=scaler.transform(X_new_test)\n",
    "\n",
    "# build model\n",
    "model_new=LinearRegression().fit(X_new_train_scaled,y_train)\n",
    "\n",
    "# test\n",
    "y_pred2=model_new.predict(X_new_test_scaled)\n",
    "\n",
    "print(model_new.coef_, model_new.intercept_)"
   ]
  },
  {
   "cell_type": "code",
   "execution_count": 250,
   "metadata": {},
   "outputs": [
    {
     "name": "stdout",
     "output_type": "stream",
     "text": [
      "with second column:  0.9212136936055169\n",
      " w/o second column:  0.8057671040075728\n"
     ]
    }
   ],
   "source": [
    "# comparing R2 values\n",
    "print(\"with second column: \", r2_score(y_test,y_pred1))\n",
    "print(\" w/o second column: \", r2_score(y_test,y_pred2))"
   ]
  },
  {
   "cell_type": "markdown",
   "metadata": {},
   "source": [
    "## Testing StandardScaler\n",
    "\n",
    "### 1. What if we don't scale the regressors?"
   ]
  },
  {
   "cell_type": "code",
   "execution_count": 251,
   "metadata": {},
   "outputs": [
    {
     "name": "stdout",
     "output_type": "stream",
     "text": [
      "[0.3528274  2.08528539 2.867593  ] 30.025333148315553\n"
     ]
    }
   ],
   "source": [
    "# model fit to unscaled data\n",
    "\n",
    "model_unscaled=LinearRegression()\n",
    "model_unscaled.fit(X_train,y_train)\n",
    "print(model_unscaled.coef_, model_unscaled.intercept_)\n",
    "\n",
    "# real relationship: Y=X_1+2X_2+3X_3"
   ]
  },
  {
   "cell_type": "code",
   "execution_count": 252,
   "metadata": {},
   "outputs": [
    {
     "name": "stdout",
     "output_type": "stream",
     "text": [
      "[ 0.3528274   2.08528539  2.867593   30.02533315]\n"
     ]
    }
   ],
   "source": [
    "# using pseudoinverse for unscaled data matrix\n",
    "\n",
    "# add one column of ones for constant term\n",
    "pinv_arr=np.ones((80,4))\n",
    "for i in range(80):\n",
    "    for j in range(4):\n",
    "        if j<3:\n",
    "            pinv_arr[i,j]=X_train.iloc[i,j]\n",
    "\n",
    "pinv2=np.linalg.pinv(pinv_arr)\n",
    "print(np.matmul(pinv2,y_train))"
   ]
  },
  {
   "cell_type": "code",
   "execution_count": 253,
   "metadata": {},
   "outputs": [
    {
     "data": {
      "text/plain": [
       "<bound method NDFrame.head of     col_1  col_2  col_3\n",
       "55     10    -15     40\n",
       "88     41     82     88\n",
       "26     95    247      0\n",
       "42     46    120      9\n",
       "69     67    236     84\n",
       "..    ...    ...    ...\n",
       "60     26     36     23\n",
       "71     29     47     38\n",
       "14     16      6     60\n",
       "92     96    327     65\n",
       "51     10     -2     68\n",
       "\n",
       "[80 rows x 3 columns]>"
      ]
     },
     "execution_count": 253,
     "metadata": {},
     "output_type": "execute_result"
    }
   ],
   "source": [
    "X_train.head"
   ]
  },
  {
   "cell_type": "code",
   "execution_count": 254,
   "metadata": {},
   "outputs": [
    {
     "data": {
      "text/plain": [
       "array([[-1.38700595e+00, -1.73613552e+00, -2.85995613e-01],\n",
       "       [-3.41163824e-01, -7.32155220e-01,  1.42197197e+00],\n",
       "       [ 1.48062569e+00,  9.75646317e-01, -1.70930193e+00],\n",
       "       [-1.72479609e-01, -3.38843350e-01, -1.38905801e+00],\n",
       "       [ 5.35994092e-01,  8.61792882e-01,  1.27964133e+00],\n",
       "       [-1.35326911e+00, -8.04607406e-01, -1.49580598e+00],\n",
       "       [ 4.68520406e-01,  7.68640071e-01,  2.47744256e-01],\n",
       "       [ 9.74151340e-02,  3.75328201e-01,  1.17289336e+00],\n",
       "       [ 2.32362506e-01, -2.83339800e-02, -9.62066113e-01],\n",
       "       [-1.55569017e+00, -1.75683614e+00, -1.03323143e+00],\n",
       "       [-3.07426981e-01, -6.18301784e-01, -4.99491560e-01],\n",
       "       [ 5.69730935e-01,  4.68481013e-01,  2.83326914e-01],\n",
       "       [-1.25205858e+00, -7.01104283e-01, -1.21114472e+00],\n",
       "       [ 1.04204674e+00,  1.44141037e+00,  1.10172805e+00],\n",
       "       [-1.65690070e+00, -1.89139020e+00,  8.52649440e-01],\n",
       "       [ 4.01046720e-01,  8.72143194e-01,  3.42483082e-02],\n",
       "       [ 1.27820464e+00,  1.14125131e+00,  8.88232098e-01],\n",
       "       [ 5.02257249e-01,  7.68640071e-01, -1.13997940e+00],\n",
       "       [-1.42074280e+00, -1.26002115e+00,  9.94980071e-01],\n",
       "       [ 6.70941464e-01,  6.34086010e-01,  1.56430260e+00],\n",
       "       [ 1.61557307e+00,  1.38965881e+00,  1.56430260e+00],\n",
       "       [ 1.64888820e-01,  5.09882262e-01,  1.76578940e-01],\n",
       "       [ 7.72151993e-01,  6.34086010e-01,  1.31522399e+00],\n",
       "       [ 1.54809938e+00,  1.58631475e+00,  1.81338120e+00],\n",
       "       [ 1.17699411e+00,  9.65296005e-01, -1.03323143e+00],\n",
       "       [ 1.04204674e+00,  1.45176069e+00,  3.90074887e-01],\n",
       "       [-7.12690807e-02, -5.25148973e-01, -1.33434967e-03],\n",
       "       [-2.39953295e-01, -3.18142726e-01,  4.61240203e-01],\n",
       "       [-1.38742767e-01,  1.26920705e-01,  1.03056273e+00],\n",
       "       [ 1.17699411e+00,  1.02739788e+00, -9.62066113e-01],\n",
       "       [-9.82163840e-01, -1.14616771e+00, -2.14830297e-01],\n",
       "       [-1.38742767e-01, -2.14639602e-01,  9.59397414e-01],\n",
       "       [-1.52195333e+00, -1.81893802e+00,  1.63546791e+00],\n",
       "       [-5.43584882e-01, -7.63335535e-03, -1.63813661e+00],\n",
       "       [-1.55569017e+00, -1.15651803e+00, -1.17556206e+00],\n",
       "       [-4.76111196e-01,  4.41182064e-02,  4.25657545e-01],\n",
       "       [ 1.00830989e+00,  4.47780388e-01, -1.46022332e+00],\n",
       "       [ 4.01046720e-01,  4.16729451e-01, -4.28326244e-01],\n",
       "       [ 9.74573050e-01,  6.03035073e-01, -1.79247639e-01],\n",
       "       [-1.69063754e+00, -1.86033927e+00, -9.26483455e-01],\n",
       "       [ 8.73362521e-01,  6.03035073e-01, -1.03323143e+00],\n",
       "       [-1.52195333e+00, -1.24967084e+00, -1.33434967e-03],\n",
       "       [ 9.07099364e-01,  1.34825756e+00,  1.17289336e+00],\n",
       "       [-1.72479609e-01,  3.44277264e-01, -1.10439674e+00],\n",
       "       [ 3.67309877e-01,  2.40774141e-01,  1.49313728e+00],\n",
       "       [ 1.10952042e+00,  5.92684761e-01, -7.12987508e-01],\n",
       "       [-1.55569017e+00, -1.38422490e+00,  4.96822861e-01],\n",
       "       [-7.79742782e-01, -4.83747723e-01, -7.84152823e-01],\n",
       "       [-3.75322378e-02,  1.78672267e-01, -3.69170076e-02],\n",
       "       [ 1.07578358e+00,  6.65136947e-01, -8.55318139e-01],\n",
       "       [ 1.31194148e+00,  8.10041320e-01,  8.17066782e-01],\n",
       "       [-1.62316386e+00, -1.08406584e+00,  1.70663323e+00],\n",
       "       [ 1.07578358e+00,  1.37930850e+00, -1.60255396e+00],\n",
       "       [-1.11711121e+00, -9.49511779e-01, -1.43664981e-01],\n",
       "       [ 7.04678307e-01,  6.75487259e-01, -3.69170076e-02],\n",
       "       [-2.06216452e-01,  2.40774141e-01,  1.05413624e-01],\n",
       "       [-2.06216452e-01, -4.73397411e-01, -1.06881409e+00],\n",
       "       [ 1.51436254e+00,  1.08949975e+00,  3.42483082e-02],\n",
       "       [-3.74900667e-01, -2.76741476e-01,  1.40996282e-01],\n",
       "       [ 1.37941517e+00,  1.02739788e+00,  3.54492229e-01],\n",
       "       [ 9.74151340e-02, -3.18142726e-01,  2.47744256e-01],\n",
       "       [-5.77321725e-01, -4.73397411e-01,  1.74221589e+00],\n",
       "       [-1.11711121e+00, -1.52912927e+00, -7.84152823e-01],\n",
       "       [ 1.37941517e+00,  1.73121912e+00, -4.99491560e-01],\n",
       "       [ 9.74151340e-02, -2.04289290e-01,  1.74221589e+00],\n",
       "       [ 6.37204621e-01,  4.27079763e-01, -1.10439674e+00],\n",
       "       [ 2.66099349e-01,  4.99531950e-01,  6.39153492e-01],\n",
       "       [ 8.39625678e-01,  9.13544443e-01, -1.70930193e+00],\n",
       "       [-2.73690138e-01, -4.21645849e-01, -7.84152823e-01],\n",
       "       [ 1.10952042e+00,  1.26545506e+00,  1.42197197e+00],\n",
       "       [ 7.72151993e-01,  6.23735698e-01, -7.24996655e-02],\n",
       "       [-1.18458490e+00, -1.01161365e+00, -1.49580598e+00],\n",
       "       [-1.25205858e+00, -6.90753970e-01,  2.83326914e-01],\n",
       "       [ 2.32362506e-01,  5.51283511e-01, -2.50412955e-01],\n",
       "       [-1.45447964e+00, -1.63263239e+00, -6.77404850e-01],\n",
       "       [-8.47216468e-01, -1.20826959e+00, -8.90900797e-01],\n",
       "       [-7.46005939e-01, -1.09441615e+00, -3.57160929e-01],\n",
       "       [-1.18458490e+00, -1.51877896e+00,  4.25657545e-01],\n",
       "       [ 1.51436254e+00,  1.80367131e+00,  6.03570835e-01],\n",
       "       [-1.38700595e+00, -1.60158146e+00,  7.10318808e-01]])"
      ]
     },
     "execution_count": 254,
     "metadata": {},
     "output_type": "execute_result"
    }
   ],
   "source": [
    "X_train_scaled"
   ]
  },
  {
   "cell_type": "markdown",
   "metadata": {},
   "source": [
    "Let's compare $\\mathbf{X}$ before and after scaling "
   ]
  },
  {
   "cell_type": "code",
   "execution_count": 255,
   "metadata": {},
   "outputs": [
    {
     "name": "stdout",
     "output_type": "stream",
     "text": [
      "51.1125 878.5998437499996\n"
     ]
    },
    {
     "name": "stderr",
     "output_type": "stream",
     "text": [
      "/var/folders/n1/xb4gyj5530g0114s2tcl_l_c0000gn/T/ipykernel_10519/654684410.py:7: FutureWarning: Setting an item of incompatible dtype is deprecated and will raise in a future error of pandas. Value '55   -1.387006\n",
      "88   -0.341164\n",
      "26    1.480626\n",
      "42   -0.172480\n",
      "69    0.535994\n",
      "        ...   \n",
      "60   -0.847216\n",
      "71   -0.746006\n",
      "14   -1.184585\n",
      "92    1.514363\n",
      "51   -1.387006\n",
      "Name: col_1, Length: 80, dtype: float64' has dtype incompatible with int64, please explicitly cast to a compatible dtype first.\n",
      "  X_new.iloc[:,0]=(X_train.iloc[:,0] - mean1 )/sd1\n"
     ]
    },
    {
     "data": {
      "text/plain": [
       "55   -1.387006\n",
       "88   -0.341164\n",
       "26    1.480626\n",
       "42   -0.172480\n",
       "69    0.535994\n",
       "        ...   \n",
       "60   -0.847216\n",
       "71   -0.746006\n",
       "14   -1.184585\n",
       "92    1.514363\n",
       "51   -1.387006\n",
       "Name: col_1, Length: 80, dtype: float64"
      ]
     },
     "execution_count": 255,
     "metadata": {},
     "output_type": "execute_result"
    }
   ],
   "source": [
    "# trying to standardise a column manually``\n",
    "\n",
    "X_new=X_train\n",
    "mean1=np.mean(X_train.iloc[:,0])\n",
    "var1=np.var(X_train.iloc[:,0])\n",
    "sd1=var1**0.5\n",
    "X_new.iloc[:,0]=(X_train.iloc[:,0] - mean1 )/sd1\n",
    "print(mean1,var1)\n",
    "X_new.iloc[:,0]"
   ]
  },
  {
   "cell_type": "markdown",
   "metadata": {},
   "source": [
    "### 2. Testing the scaler with non-collinear data\n",
    "\n",
    "Results: everything normal and consistent. The comparison between output of scaled and unscaled model is as expected."
   ]
  },
  {
   "cell_type": "code",
   "execution_count": 256,
   "metadata": {},
   "outputs": [
    {
     "name": "stdout",
     "output_type": "stream",
     "text": [
      "    col_1  col_2  col_3  col_4\n",
      "0      56     44     43    273\n",
      "1      40     41     30    205\n",
      "2      26     34     24    166\n",
      "3      85      6     72    311\n",
      "4      82     10     35    216\n",
      "..    ...    ...    ...    ...\n",
      "95      4     89     86    442\n",
      "96     96     72     10    272\n",
      "97     33     49     30    221\n",
      "98      0     34      5     84\n",
      "99     24     18     25    137\n",
      "\n",
      "[100 rows x 4 columns]\n"
     ]
    }
   ],
   "source": [
    "# Define the number of rows and columns\n",
    "num_rows = 100\n",
    "num_cols = 4\n",
    "\n",
    "# Define column names (optional, but good practice)\n",
    "column_names = [f'col_{i+1}' for i in range(num_cols)]\n",
    "\n",
    "# Generate random data using NumPy\n",
    "# For random integers: np.random.randint(low, high, size=(rows, cols))\n",
    "# For random floats: np.random.rand(rows, cols) or np.random.uniform(low, high, size=(rows, cols))\n",
    "\n",
    "random_data = np.random.randint(0, 100, size=(num_rows, num_cols)) # Example: random integers between 0 and 99\n",
    "\n",
    "# Create the DataFrame\n",
    "df = pd.DataFrame(random_data, columns=column_names)\n",
    "\n",
    "for i in range(num_rows):\n",
    "    df.iloc[i,num_cols-1]=df.iloc[i,0]+2*df.iloc[i,1]+3*df.iloc[i,2]+np.random.randint(-10,10)\n",
    "\n",
    "# Print the generated DataFrame\n",
    "print(df)"
   ]
  },
  {
   "cell_type": "code",
   "execution_count": 257,
   "metadata": {},
   "outputs": [],
   "source": [
    "X=df.drop(columns=['col_4'])\n",
    "y=df['col_4']\n",
    "\n",
    "X_train, X_test, y_train, y_test = train_test_split(X,y,train_size=0.8,random_state=42)\n",
    "\n",
    "# standardise\n",
    "scaler=StandardScaler()\n",
    "X_train_scaled=scaler.fit_transform(X_train)\n",
    "X_test_scaled=scaler.transform(X_test)\n",
    "\n",
    "# correct\n",
    "model1=LinearRegression()\n",
    "model2=LinearRegression()\n",
    "model_scaled=model1.fit(X_train_scaled,y_train)\n",
    "model_unscaled=model2.fit(X_train,y_train)\n",
    "\n",
    "# wrong\n",
    "# model=LinearRegression()\n",
    "# model_scaled=model.fit(X_train_scaled,y_train)\n",
    "# model_unscaled=model.fit(X_train,y_train)\n"
   ]
  },
  {
   "cell_type": "code",
   "execution_count": 258,
   "metadata": {},
   "outputs": [
    {
     "data": {
      "text/html": [
       "<div>\n",
       "<style scoped>\n",
       "    .dataframe tbody tr th:only-of-type {\n",
       "        vertical-align: middle;\n",
       "    }\n",
       "\n",
       "    .dataframe tbody tr th {\n",
       "        vertical-align: top;\n",
       "    }\n",
       "\n",
       "    .dataframe thead th {\n",
       "        text-align: right;\n",
       "    }\n",
       "</style>\n",
       "<table border=\"1\" class=\"dataframe\">\n",
       "  <thead>\n",
       "    <tr style=\"text-align: right;\">\n",
       "      <th></th>\n",
       "      <th>col_1</th>\n",
       "      <th>col_2</th>\n",
       "      <th>col_3</th>\n",
       "      <th>col_4</th>\n",
       "    </tr>\n",
       "  </thead>\n",
       "  <tbody>\n",
       "    <tr>\n",
       "      <th>0</th>\n",
       "      <td>56</td>\n",
       "      <td>44</td>\n",
       "      <td>43</td>\n",
       "      <td>273</td>\n",
       "    </tr>\n",
       "    <tr>\n",
       "      <th>1</th>\n",
       "      <td>40</td>\n",
       "      <td>41</td>\n",
       "      <td>30</td>\n",
       "      <td>205</td>\n",
       "    </tr>\n",
       "    <tr>\n",
       "      <th>2</th>\n",
       "      <td>26</td>\n",
       "      <td>34</td>\n",
       "      <td>24</td>\n",
       "      <td>166</td>\n",
       "    </tr>\n",
       "    <tr>\n",
       "      <th>3</th>\n",
       "      <td>85</td>\n",
       "      <td>6</td>\n",
       "      <td>72</td>\n",
       "      <td>311</td>\n",
       "    </tr>\n",
       "    <tr>\n",
       "      <th>4</th>\n",
       "      <td>82</td>\n",
       "      <td>10</td>\n",
       "      <td>35</td>\n",
       "      <td>216</td>\n",
       "    </tr>\n",
       "    <tr>\n",
       "      <th>...</th>\n",
       "      <td>...</td>\n",
       "      <td>...</td>\n",
       "      <td>...</td>\n",
       "      <td>...</td>\n",
       "    </tr>\n",
       "    <tr>\n",
       "      <th>95</th>\n",
       "      <td>4</td>\n",
       "      <td>89</td>\n",
       "      <td>86</td>\n",
       "      <td>442</td>\n",
       "    </tr>\n",
       "    <tr>\n",
       "      <th>96</th>\n",
       "      <td>96</td>\n",
       "      <td>72</td>\n",
       "      <td>10</td>\n",
       "      <td>272</td>\n",
       "    </tr>\n",
       "    <tr>\n",
       "      <th>97</th>\n",
       "      <td>33</td>\n",
       "      <td>49</td>\n",
       "      <td>30</td>\n",
       "      <td>221</td>\n",
       "    </tr>\n",
       "    <tr>\n",
       "      <th>98</th>\n",
       "      <td>0</td>\n",
       "      <td>34</td>\n",
       "      <td>5</td>\n",
       "      <td>84</td>\n",
       "    </tr>\n",
       "    <tr>\n",
       "      <th>99</th>\n",
       "      <td>24</td>\n",
       "      <td>18</td>\n",
       "      <td>25</td>\n",
       "      <td>137</td>\n",
       "    </tr>\n",
       "  </tbody>\n",
       "</table>\n",
       "<p>100 rows × 4 columns</p>\n",
       "</div>"
      ],
      "text/plain": [
       "    col_1  col_2  col_3  col_4\n",
       "0      56     44     43    273\n",
       "1      40     41     30    205\n",
       "2      26     34     24    166\n",
       "3      85      6     72    311\n",
       "4      82     10     35    216\n",
       "..    ...    ...    ...    ...\n",
       "95      4     89     86    442\n",
       "96     96     72     10    272\n",
       "97     33     49     30    221\n",
       "98      0     34      5     84\n",
       "99     24     18     25    137\n",
       "\n",
       "[100 rows x 4 columns]"
      ]
     },
     "execution_count": 258,
     "metadata": {},
     "output_type": "execute_result"
    }
   ],
   "source": [
    "df"
   ]
  },
  {
   "cell_type": "code",
   "execution_count": 259,
   "metadata": {},
   "outputs": [
    {
     "data": {
      "text/plain": [
       "array([[ 1.60582582,  1.81051356, -0.14283049],\n",
       "       [-0.05651975,  0.43863888,  0.30191116],\n",
       "       [ 1.37309744, -1.40256135, -0.38230677],\n",
       "       [ 1.14036906,  0.7274546 , -0.31388498],\n",
       "       [-1.28665547, -0.78882794, -0.62178305],\n",
       "       [ 0.40893701,  0.43863888,  0.8834964 ],\n",
       "       [-1.41964311,  0.18592512,  1.32823806],\n",
       "       [ 1.63907273,  0.8357605 , -1.20336829],\n",
       "       [ 0.17620863, -1.47476528,  1.36244896],\n",
       "       [-0.52197651,  0.6191487 ,  1.08876178],\n",
       "       [ 1.63907273,  0.40253691,  0.71244192],\n",
       "       [-0.62171724,  0.04151726,  1.63613613],\n",
       "       [-0.85444562, -0.60831811, -0.55336125],\n",
       "       [-0.18950739,  1.5577998 ,  1.56771434],\n",
       "       [-0.65496415, -1.61917314,  1.46508165],\n",
       "       [ 1.60582582, -0.68052205,  1.56771434],\n",
       "       [-1.12042091, -1.47476528, -1.0665247 ],\n",
       "       [-0.38898886, -0.1028906 , -0.82704842],\n",
       "       [-1.18691473,  0.94406639, -0.45072856],\n",
       "       [-1.25340856, -1.22205152, -0.89547022],\n",
       "       [ 1.70556655, -0.86103187,  0.57559833],\n",
       "       [ 0.80789995,  0.18592512,  1.46508165],\n",
       "       [-0.15626048,  0.22202709, -0.1086196 ],\n",
       "       [-1.41964311,  1.4494939 ,  1.39665985],\n",
       "       [-0.82119871,  1.63000373, -0.00598691],\n",
       "       [ 0.10971481,  0.00541529, -1.54547725],\n",
       "       [ 0.9741345 , -0.46391025, -1.44284456],\n",
       "       [ 0.3756901 ,  1.41339194,  0.19927847],\n",
       "       [-1.28665547,  0.00541529,  1.49929254],\n",
       "       [-0.42223577,  1.12457622, -1.54547725],\n",
       "       [-1.22016165, -1.47476528, -1.47705546],\n",
       "       [ 1.2733567 , -1.54696921,  0.9177073 ],\n",
       "       [ 0.84114686, -0.53611418, -0.41651767],\n",
       "       [ 0.24270245,  0.11372119,  1.77297972],\n",
       "       [ 0.94088759, -0.68052205,  1.67034703],\n",
       "       [-1.48613694,  0.40253691, -1.47705546],\n",
       "       [ 1.10712215,  1.01627032, -0.99810291],\n",
       "       [-0.35574195,  0.25812905,  0.09664578],\n",
       "       [-1.18691473, -0.68052205, -0.62178305],\n",
       "       [-0.22275431, -1.00543973, -0.38230677],\n",
       "       [-1.3863962 ,  0.94406639, -0.99810291],\n",
       "       [-0.75470489, -1.11374563, -0.69020484],\n",
       "       [-0.35574195, -0.24729846,  1.43087075],\n",
       "       [ 1.10712215,  0.58304674,  1.02033999],\n",
       "       [-1.28665547, -0.86103187, -0.31388498],\n",
       "       [-0.65496415, -1.65527511, -0.41651767],\n",
       "       [-0.28924813,  0.87186246,  0.78086371],\n",
       "       [ 1.67231964,  1.77441159, -1.0323138 ],\n",
       "       [ 0.3756901 ,  0.76355657, -0.14283049],\n",
       "       [-0.45548269,  0.00541529, -0.51915036],\n",
       "       [ 0.10971481,  1.23288211, -0.27967408],\n",
       "       [-1.22016165, -1.61917314, -0.00598691],\n",
       "       [-0.62171724, -1.07764366,  0.16506758],\n",
       "       [-0.15626048,  1.19678015, -1.30600098],\n",
       "       [-1.55263076, -0.53611418, -1.37442277],\n",
       "       [ 0.00997407,  0.6191487 ,  1.43087075],\n",
       "       [ 1.70556655,  0.36643495,  1.22560537],\n",
       "       [ 1.07387524,  1.48559587,  1.60192523],\n",
       "       [-0.58847033, -0.78882794, -0.89547022],\n",
       "       [ 1.47283817,  0.18592512, -0.69020484],\n",
       "       [ 0.3756901 , -0.9332358 , -0.65599394],\n",
       "       [-0.58847033, -1.58307118, -0.82704842],\n",
       "       [ 1.04062832, -0.78882794,  0.47296565],\n",
       "       [ 0.90764068, -1.25815349,  0.54138744],\n",
       "       [-0.22275431, -0.28340043, -0.51915036],\n",
       "       [-1.41964311, -0.2111965 , -0.62178305],\n",
       "       [ 0.64166539,  1.34118801, -0.31388498],\n",
       "       [-0.68821106, -0.53611418, -0.72441573],\n",
       "       [ 0.10971481, -0.86103187,  0.23348937],\n",
       "       [ 0.10971481, -0.78882794, -1.54547725],\n",
       "       [-0.52197651,  1.48559587,  1.02033999],\n",
       "       [-0.75470489, -1.58307118,  0.09664578],\n",
       "       [ 0.9741345 ,  0.8357605 ,  1.77297972],\n",
       "       [ 0.14296172, -0.96933777,  0.64402013],\n",
       "       [-1.48613694,  1.63000373, -1.23757918],\n",
       "       [ 1.47283817, -0.17509453, -1.34021187],\n",
       "       [ 0.50867774,  1.01627032,  0.26770027],\n",
       "       [ 0.90764068,  1.08847425,  0.09664578],\n",
       "       [ 1.70556655,  0.8357605 , -0.99810291],\n",
       "       [-1.25340856,  0.40253691, -0.38230677]])"
      ]
     },
     "execution_count": 259,
     "metadata": {},
     "output_type": "execute_result"
    }
   ],
   "source": [
    "X_train_scaled"
   ]
  },
  {
   "cell_type": "code",
   "execution_count": 260,
   "metadata": {},
   "outputs": [
    {
     "name": "stdout",
     "output_type": "stream",
     "text": [
      "Scaled:  [30.71013975 54.56729394 87.56053925] 278.6375\n",
      "Unscaled:  [1.02101729 1.96998655 2.99552455] -0.6006722168861529\n"
     ]
    }
   ],
   "source": [
    "print(\"Scaled: \",model_scaled.coef_, model_scaled.intercept_)\n",
    "print(\"Unscaled: \",model_unscaled.coef_, model_unscaled.intercept_)"
   ]
  },
  {
   "cell_type": "markdown",
   "metadata": {},
   "source": [
    "## Testing ridge regression\n",
    "\n",
    "What I want to know: whether if it just gives a model that is useful for predictions OR it is actually able to capture the true underlying relationship. \n",
    "\n",
    "We reuse the same generated dataframe from last section, with relationship\n",
    "$$Y=X_1+2X_2+3X_3$$\n",
    "where $X_1$ and $X_2$ are correlated with $X_2=2X_1$."
   ]
  },
  {
   "cell_type": "code",
   "execution_count": 261,
   "metadata": {},
   "outputs": [
    {
     "name": "stdout",
     "output_type": "stream",
     "text": [
      "    col_1  col_2  col_3  col_4\n",
      "0      56     44     43    273\n",
      "1      40     41     30    205\n",
      "2      26     34     24    166\n",
      "3      85      6     72    311\n",
      "4      82     10     35    216\n",
      "..    ...    ...    ...    ...\n",
      "95      4     89     86    442\n",
      "96     96     72     10    272\n",
      "97     33     49     30    221\n",
      "98      0     34      5     84\n",
      "99     24     18     25    137\n",
      "\n",
      "[100 rows x 4 columns]\n"
     ]
    }
   ],
   "source": [
    "# reuse the data\n",
    "print(df)\n"
   ]
  },
  {
   "cell_type": "code",
   "execution_count": 262,
   "metadata": {},
   "outputs": [
    {
     "name": "stdout",
     "output_type": "stream",
     "text": [
      "Model score (R^2) for OLS:  0.9973538754317404\n",
      "Model score (R^2) for ridge:  0.9972865528157732\n"
     ]
    }
   ],
   "source": [
    "X=df.iloc[:,0:3]\n",
    "y=df.iloc[:,3]\n",
    "\n",
    "X_train, X_test, y_train, y_test=train_test_split(X,y,train_size=0.8, random_state=42)\n",
    "\n",
    "scaler=StandardScaler()\n",
    "X_train_scaled=scaler.fit_transform(X_train)\n",
    "X_test_scaled=scaler.transform(X_test)\n",
    "\n",
    "ols=LinearRegression().fit(X_train_scaled,y_train)\n",
    "ridge_cv=RidgeCV(alphas=[0.0001,0.001,0.01,0.1,1.0,5.0,10.0],cv=10) #alpha = regularisation parameter\n",
    "ridge_cv.fit(X_train_scaled, y_train)\n",
    "\n",
    "# make predictions\n",
    "y_pred_ols=ols.predict(X_test_scaled)\n",
    "y_pred_ridge=ridge_cv.predict(X_test_scaled)\n",
    "print(\"Model score (R^2) for OLS: \", r2_score(y_test,y_pred_ols))\n",
    "print(\"Model score (R^2) for ridge: \", r2_score(y_test,y_pred_ridge))\n",
    "\n"
   ]
  },
  {
   "cell_type": "code",
   "execution_count": 263,
   "metadata": {},
   "outputs": [
    {
     "name": "stdout",
     "output_type": "stream",
     "text": [
      "Cross-validated R^2 scores (OLS): [0.99745812 0.99794622 0.99800506 0.99851217 0.99543926]\n",
      "Mean CV R^2 (OLS): 0.9974721663330166\n"
     ]
    }
   ],
   "source": [
    "from sklearn.model_selection import cross_val_score, KFold\n",
    "\n",
    "# define cross-validation strategy\n",
    "cv = KFold(n_splits=5, shuffle=True, random_state=42)\n",
    "\n",
    "# compute cross-validated R^2 scores\n",
    "cv_scores = cross_val_score(ols, X_train_scaled, y_train, cv=cv, scoring='r2')\n",
    "\n",
    "print(\"Cross-validated R^2 scores (OLS):\", cv_scores)\n",
    "print(\"Mean CV R^2 (OLS):\", np.mean(cv_scores))"
   ]
  },
  {
   "cell_type": "code",
   "execution_count": 264,
   "metadata": {},
   "outputs": [
    {
     "data": {
      "text/plain": [
       "array([30.71013975, 54.56729394, 87.56053925])"
      ]
     },
     "execution_count": 264,
     "metadata": {},
     "output_type": "execute_result"
    }
   ],
   "source": [
    "ols.coef_"
   ]
  },
  {
   "cell_type": "code",
   "execution_count": 265,
   "metadata": {},
   "outputs": [
    {
     "data": {
      "text/plain": [
       "array([30.70064674, 54.50848182, 87.4572582 ])"
      ]
     },
     "execution_count": 265,
     "metadata": {},
     "output_type": "execute_result"
    }
   ],
   "source": [
    "ridge_cv.coef_"
   ]
  },
  {
   "cell_type": "code",
   "execution_count": 266,
   "metadata": {},
   "outputs": [
    {
     "data": {
      "text/plain": [
       "0.1"
      ]
     },
     "execution_count": 266,
     "metadata": {},
     "output_type": "execute_result"
    }
   ],
   "source": [
    "ridge_cv.alpha_"
   ]
  },
  {
   "cell_type": "markdown",
   "metadata": {},
   "source": [
    "## Testing LASSO \n",
    "\n",
    "(same as ridge)\n",
    "What I want to know: whether if it just gives a model that is useful for predictions OR it is actually able to capture the true underlying relationship. \n",
    "\n",
    "We reuse the same generated dataframe from previous sections, with relationship\n",
    "$$Y=X_1+2X_2+3X_3$$\n",
    "where $X_1$ and $X_2$ are correlated with $X_2=2X_1$."
   ]
  },
  {
   "cell_type": "code",
   "execution_count": 269,
   "metadata": {},
   "outputs": [
    {
     "name": "stdout",
     "output_type": "stream",
     "text": [
      "Model score (R^2) for OLS:    0.9973538754317404\n",
      "Model score (R^2) for ridge:  0.9972865528157732\n",
      "Model score (R^2) for lasso:  0.9973538195472932\n",
      "Alpha selected out of [0.0001, 0.001, 0.01, 0.1, 1, 10]: 0.0001\n"
     ]
    }
   ],
   "source": [
    "#Lasso Cross validation\n",
    "lasso_cv = LassoCV(alphas = [0.0001, 0.001,0.01, 0.1, 1, 10], random_state=42).fit(X_train_scaled, y_train)\n",
    "\n",
    "y_pred_lasso=lasso_cv.predict(X_test_scaled)\n",
    "#score\n",
    "# print(lasso_cv.score(X_train, y_train))\n",
    "# print(lasso_cv.score(X_test, y_test))\n",
    "r2_lasso=r2_score(y_test,y_pred_lasso)\n",
    "\n",
    "# compare\n",
    "print(\"Model score (R^2) for OLS:   \", r2_score(y_test,y_pred_ols))\n",
    "print(\"Model score (R^2) for ridge: \", r2_score(y_test,y_pred_ridge))\n",
    "print(\"Model score (R^2) for lasso: \", r2_lasso)\n",
    "print(f'Alpha selected out of {lasso_cv.alphas}: {lasso_cv.alpha_}')"
   ]
  },
  {
   "cell_type": "code",
   "execution_count": 270,
   "metadata": {},
   "outputs": [
    {
     "name": "stdout",
     "output_type": "stream",
     "text": [
      "Test MSE for OLS:    36.74511112812397\n",
      "Test MSE for ridge:  37.67997906095754\n",
      "Test MSE for lasso:  36.745887161211655\n"
     ]
    }
   ],
   "source": [
    "print(\"Test MSE for OLS:   \", mean_squared_error(y_test,y_pred_ols))\n",
    "print(\"Test MSE for ridge: \", mean_squared_error(y_test,y_pred_ridge))\n",
    "print(\"Test MSE for lasso: \", mean_squared_error(y_test,y_pred_lasso))"
   ]
  },
  {
   "cell_type": "code",
   "execution_count": null,
   "metadata": {},
   "outputs": [],
   "source": []
  }
 ],
 "metadata": {
  "kernelspec": {
   "display_name": "base",
   "language": "python",
   "name": "python3"
  },
  "language_info": {
   "codemirror_mode": {
    "name": "ipython",
    "version": 3
   },
   "file_extension": ".py",
   "mimetype": "text/x-python",
   "name": "python",
   "nbconvert_exporter": "python",
   "pygments_lexer": "ipython3",
   "version": "3.12.7"
  }
 },
 "nbformat": 4,
 "nbformat_minor": 2
}
